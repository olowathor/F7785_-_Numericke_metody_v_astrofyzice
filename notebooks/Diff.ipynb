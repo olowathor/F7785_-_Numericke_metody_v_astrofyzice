{
 "cells": [
  {
   "cell_type": "markdown",
   "metadata": {},
   "source": [
    "# Základy řešení parciálních diferenciálních rovnic"
   ]
  },
  {
   "cell_type": "markdown",
   "metadata": {},
   "source": [
    "Zavzpomíname-li na základní kurzy matematické analýzy, jistě si vzpomene, jak nesnadné je analytické řešení parciálních diferenciálních rovnic, pokud vůbec lze řešení najít. Když pomineme učebnicové příklady (za zmínku stojí například vlnová rovnice), stojíme většinou před neřešitelným problémem. Naštestí pro nás ale pro fyziku obecně, pomocnou ruku nám podá numerické řešení problému a síla současné výpočetní techniky - počítače. Jak ale na to? Jak převést rovnici, kterou jsme dostali aplikací fyzikálních zákonů pro konkrétní problém do řeči čísel? Následující kapitola se vám pokusí v tom udělat trochu jasněji."
   ]
  },
  {
   "cell_type": "markdown",
   "metadata": {},
   "source": [
    "## Metoda konečných diferencí"
   ]
  },
  {
   "cell_type": "markdown",
   "metadata": {},
   "source": [
    "Jednou z nejpoužívanějších metod, která je zároveň vhodná pro názornou ilustraci, je *metoda konečných diferencí*. Nejedná se o nic jiného než diskrétní reprezentaci patřičných proměnných, funkcí a derivací definovaného problému, se kterou jsme se již setkali v kapitole *Řešení obyčejných diferenciálních rovnic*. Na úvod to zni složitě ale ve skutečnosti je to velmi jednoduché. Vše co k tomu budeme potřebovat je znalost Taylorova rozvoje funkce. Názorně si to ilustrujeme na jednoduché rovnici advekce-difůze\n",
    "\n",
    "\\begin{equation}\n",
    "\\frac{\\partial u}{\\partial t} + v \\frac{\\partial u}{\\partial x} = D \\frac{\\partial^2 u}{\\partial x^2}\n",
    "\\tag{1}\n",
    "\\end{equation}\n",
    "\n",
    "zahrnující v sobě jak difúzní $D\\frac{{\\partial}^2 u}{\\partial x^2}$ , tak advekční člen $v\\frac{\\partial u}{\\partial x}$. Funkce $u(x,t)$ nám udává $x$-ovou hodnotu rychlosti. Numerický přístup řešení této rovnice spočívá v reprezentaci $u$ souborem diskrétních hodnot $u_{i}$ v bodech diskrétní sítě \n",
    "\n",
    "$$\n",
    "x_0, x_1, x_2, x_3, \\dots, x_i \\dots, x_N \\quad (x_0 < x_1 < x_2 \\dots < x_{N})\n",
    "$$\n",
    "\n",
    "Na první pohled je patrné, že s rostoucím počtem bodů sítě, se bude naše reprezentace blížit skutečné, které bychom dosáhli pro $N = \\infty$."
   ]
  },
  {
   "cell_type": "markdown",
   "metadata": {},
   "source": [
    "### Prostorové derivace"
   ]
  },
  {
   "cell_type": "markdown",
   "metadata": {},
   "source": [
    "S touto reprezentací se můžeme dále pustit do aproximací prostorových derivací. K tomu využijeme Taylorova rozvoje okolo bodu $u_i$ pro hodnotu v bodě $u_{i+1}$. Směle můžeme psát"
   ]
  },
  {
   "cell_type": "markdown",
   "metadata": {},
   "source": [
    "\\begin{equation}\n",
    "u_{i+1}=u_{i}+\\left(\\frac{\\partial u}{\\partial x}\\right)_{i}\\Delta x + \\left(\\frac{{\\partial}^2 u}{\\partial x^2}\\right)_{i}\\frac{(\\Delta x)^2}{2}+\n",
    "\\left(\\frac{{\\partial}^3 u}{\\partial x^3}\\right)_{i}\\frac{(\\Delta x)^3}{6}+\\dots\n",
    "\\label{FF}\n",
    "\\end{equation}"
   ]
  },
  {
   "cell_type": "markdown",
   "metadata": {},
   "source": [
    "Obdobně pro hodnotu $u_{i-1}$\n",
    "\n",
    "\\begin{equation}\n",
    "u_{i-1}=u_{i}-\\left(\\frac{\\partial u}{\\partial x}\\right)_{i}\\Delta x + \\left(\\frac{{\\partial}^2 u}{\\partial x^2}\\right)_{i}\\frac{(\\Delta x)^2}{2}-\n",
    "\\left(\\frac{{\\partial}^3 u}{\\partial x^3}\\right)_{i}\\frac{(\\Delta x)^3}{6}+\\dots\n",
    "\\label{FB}\n",
    "\\end{equation}\n",
    "\n",
    "Z Taylorova rozvoje můžeme jednoduše vyjádřit vztah pro derivaci v daném bodě $i$ pomocí hodnot např. $u_{i}$ a $u_{i+1}$ (nebo také  $u_{i}$ a $u_{i-1}$)\n",
    "\n",
    "$$\n",
    "\\left(\\frac{\\partial u}{\\partial x}\\right)_{i}=\\frac{u_{i+1}-u_{i}}{\\Delta x}-\\left(\\frac{{\\partial}^2 u}{\\partial x^2}\\right)\\frac{\\Delta x}{2}-\\left(\\frac{{\\partial}^3 u}{\\partial x^3}\\right)\\frac{(\\Delta x)^2}{6}+\\dots\n",
    "$$\n",
    "\n",
    "Tím se dostaváme k určení prvních derivací podle prostorové souřadnice, rozlišujeme"
   ]
  },
  {
   "cell_type": "markdown",
   "metadata": {},
   "source": [
    "<div class=\"panel panel-primary\">\n",
    "<div class=\"panel-heading\">Diference I. řádu - první derivace</div>\n",
    "<div class=\"panel-body\">\n",
    "\n",
    "<strong>Prostorové diference (vpřed) FDS</strong>\n",
    "\n",
    "\\begin{equation}\n",
    "\\left(\\frac{\\partial u}{\\partial x}\\right)_{i}= \\frac{u_{i+1}-u_{i}}{\\Delta x}+O(\\Delta x)\n",
    "\\label{FD}\n",
    "\\end{equation}\n",
    "\n",
    "<strong>Prostorové diference (dozadu) BDS</strong>\n",
    "\\begin{equation}\n",
    "\\left(\\frac{\\partial u}{\\partial x}\\right)_{i}= \\frac{u_{i}-u_{i-1}}{\\Delta x}+O(\\Delta x)\n",
    "\\label{BD}\n",
    "\\end{equation}\n",
    "\n",
    "</div>\n",
    "</div>"
   ]
  },
  {
   "cell_type": "markdown",
   "metadata": {},
   "source": [
    "Vidíme tak, že první prostorové derivace naší funkce můžeme jednoduše vyjádřit ze znalostí hodnot funkce $u$ v diskrétních bodech $i-1, i, i+1$, v závislosti na zvoleném způsobu (\\ref{FD}) resp. (\\ref{BD}). Chyba, které se při této aproximaci dopouštíme, je prvního řádu $O(\\Delta x)$, jak je patrné z Taylorova rozvoje.\n",
    "\n",
    "V mnoha případech není však metoda prvního řádu dostatečná, je třeba použít přesnější metody, tedy druhého řádu. \n",
    "Odečtením rovnic (\\ref{FF}) a (\\ref{FB}) pro diferenci vzad a vpřed s Taylorovym rozvojem dostaneme výraz pro středovou diferenci (CD) s přesností druhého řádu"
   ]
  },
  {
   "cell_type": "markdown",
   "metadata": {},
   "source": [
    "<div class=\"panel panel-primary\">\n",
    "<div class=\"panel-heading\">Diference II.řádu - první derivace</div>\n",
    "<div class=\"panel-body\">\n",
    "\n",
    "**Prostorové diference (centrální) CDS**\n",
    "\n",
    "\\begin{equation}\n",
    "\\left(\\frac{\\partial u}{\\partial x}\\right)_{i}= \\frac{u_{i+1}-u_{i-1}}{2\\Delta x}+O(\\Delta x)^2\n",
    "\\label{CD}\n",
    "\\end{equation}\n",
    "\n",
    "</div>\n",
    "</div>"
   ]
  },
  {
   "cell_type": "markdown",
   "metadata": {},
   "source": [
    "Nic nám již nebrání, abychom vyjádřili i druhé derivace. Stačí nám k tomu sečíst rovnice (\\ref{FF}) a (\\ref{FB}) a po úpravě dostáváme pro druhou derivaci diferenční vztah s přesností třetího řádu"
   ]
  },
  {
   "cell_type": "markdown",
   "metadata": {},
   "source": [
    "<div class=\"panel panel-primary\">\n",
    "<div class=\"panel-heading\">Diference I. řádu - druhá derivace</div>\n",
    "<div class=\"panel-body\">\n",
    "**Diferenční vztah pro druhou derivaci**\n",
    "\n",
    "\\begin{equation}\n",
    "\\left(\\frac{{\\partial}^2 u}{\\partial x^2}\\right)_{i}=\\frac{u_{i+1}-2u_i+u_{i-1}}{(\\Delta x)^2}\n",
    "\\tag{4}\n",
    "\\end{equation}\n",
    "\n",
    "</div>\n",
    "</div>"
   ]
  },
  {
   "cell_type": "markdown",
   "metadata": {},
   "source": [
    "### Časové derivace"
   ]
  },
  {
   "cell_type": "markdown",
   "metadata": {},
   "source": [
    "Obdobně budeme postupovat při určování časové derivace, nicméně je třeba přiznat, že se nám situace trochu komplikuje. Příčina změny je patrná z předchozích vzorců, rozdíl spočívá ve znalosti prostorových hodnot $u_i$ v daném časovém okamžiku. Prostorové derivace můžeme vyjádřit velmi snadno, pro časovou derivaci je třeba uvážit, že známé hodnoty funkce $u_i(t)$ jsou pouze ty současné (přítomnost) a z předchozích kroků (minulost). Hodnoty následující nám známé nejsou a je třeba je určit. Pro lepší pochopení si nejprve formálně vyjádříme časovou derivaci z rovnice  (1)\n",
    "\n",
    "\\begin{equation}\n",
    "\\frac{\\partial u}{\\partial t}=h(u,x,t)\n",
    "\\tag{3}\n",
    "\\end{equation}\n",
    "\n",
    "Dále budeme postupovat jako pro prostorové derivace, nejprve diskretizujeme čas na jednotlivé kroky\n",
    "\n",
    "$$\n",
    "t_0, t_1, t_2, t_3, \\dots, t_{n} \\dots, x_{M} \\quad (t_0 < t_1 < t_2 \\dots < t_{M}).\n",
    "$$\n",
    "\n",
    "Pak rovnice (3) v jednotlivých časových krocích má podobu\n",
    "\n",
    "\\begin{equation}\n",
    "\\left(\\frac{\\partial u}{\\partial t}\\right)^{n}=h^{n}(u^{n},x,t_{n})\n",
    "\\tag{4}\n",
    "\\end{equation}\n",
    "\n",
    "kde horní index u diskrétních veličin značí $n-$-tý časový krok. Následně aproximujeme časovou derivaci podle stejného receptu jako pro prostorové derivace, tedy z Taylorova rozvoje. Dostáváme pro dopřednou diferenci"
   ]
  },
  {
   "cell_type": "markdown",
   "metadata": {},
   "source": [
    "<div class=\"panel panel-primary\">\n",
    "<div class=\"panel-heading\">Časové diference I. řádu</div>\n",
    "<div class=\"panel-body\">\n",
    "\n",
    "**(vpřed) FDT**\n",
    "\n",
    "\\begin{equation}\n",
    "\\left(\\frac{\\partial u}{\\partial t}\\right)_{i}^{n} = \\frac{u_{i}^{n+1}-u_{i}^{n}}{\\Delta t} + O(\\Delta t)\n",
    "\\end{equation}\n",
    "\n",
    "</div>\n",
    "</div>"
   ]
  },
  {
   "cell_type": "markdown",
   "metadata": {},
   "source": [
    "Víme, že díky počatečním podmínkám známe v daném počátečním okamžiku $t_0$ všechny hodnoty \n",
    "$u_i$, pro $i=1,\\dots,N$.  Jak je patrné ze vztahu pro časovou derivaci **FDT**, veličinou s neznámou hodnotou je $u_i^{n+1}$, kterou určíme na základě známých hodnot z času $t_n$. Pro časovou derivaci (3) aproximovanou s pomocí **FDT** tedy platí\n",
    "\n",
    "\\begin{eqnarray}\n",
    "\\frac{u_{i}^{n+1}-u_{i}^{n}}{\\Delta t}=h^{n}(u^{n},x,t_n)\\\\\n",
    "u_{i}^{n+1}=u_{i}^n+h^{n}\\Delta{t}+O(\\Delta x).\n",
    "\\end{eqnarray}\n",
    "\n",
    "Tento hojně využívaný přístup je označován jako explicitní metoda konečných diferencí v čase směrem vpřed (**FFTD**). Obdobně pokud využijeme druhý způsob vyjádření derivace, tedy  zpětnou differenci"
   ]
  },
  {
   "cell_type": "markdown",
   "metadata": {},
   "source": [
    "<div class=\"panel panel-primary\">\n",
    "<div class=\"panel-heading\">Časové diference I. řádu</div>\n",
    "<div class=\"panel-body\">\n",
    "\n",
    "**Časové diference (dozadu) BDT**\n",
    "\n",
    "\\begin{equation}\n",
    "\\left(\\frac{\\partial u}{\\partial t}\\right)_{i}^{n}= \\frac{u_{i}^{n}-u_{i}^{n-1}}{\\Delta t}+O(\\Delta t)\n",
    "\\end{equation}\n",
    "\n",
    "<div>\n",
    "</div>"
   ]
  },
  {
   "cell_type": "markdown",
   "metadata": {},
   "source": [
    "Pro časovou derivaci (3) aproximovanou pomocí **BDT** tak plyne\n",
    "\n",
    "\\begin{equation}\n",
    "\\frac{u_{i}^{n}-u_{i}^{n-1}}{\\Delta t}=h^n(u^{n},x,t_n).\n",
    "\\end{equation}\n",
    "\n",
    "Rozdílná situace oproti vztahu (5) spočívá v neznalosti $u^n$ a $h^n$. přeznačením $n \\equiv (n+1)$ dostaneme ekvivaletní vztah, ve kterém však vystupují neznámé veličiny na obou stranách\n",
    "\\begin{equation}\n",
    "u_{i}^{n+1}=u_{i}^n+h^{n+1}\\Delta{t}+O(\\Delta x).\n",
    "\\end{equation}\n",
    "\n",
    "Toto schéme je označována jako implicitní metoda (**BFTD**). Sečtením vztahů (6) a (5) dostaneme pak obdobné vyjádření (taktéž implicitní) takzvané centrální diferenční schéma **CDT** (s přesností druhého řádu)\n",
    "\n",
    "\\begin{equation}\n",
    "u_{i}^{n+1}=u_{i}^n+\\frac{(h^{n+1}+h^{n})}{2}\\Delta{t}+O(\\Delta x)^2\n",
    "\\end{equation}\n",
    "\n",
    "O tom, který ze způsobu vyjádření je lepší lze vést dlouhé diskuze, každý z těchto způsobů má své výhody a nevýhody, ať už z hlediska výpočetních nároků a nebo stability. \n",
    "\n",
    "## Problém lineární advekce\n",
    "Nyní je již vše připraveno pro převod (1) do diskrétního schématu. Abychom si celou situaci více zjednodušili, předpokládejme, že koeficient difůze $D=0$. Rovnice se nám redukuje na tvar\n",
    "\n",
    "\\begin{equation}\n",
    "\\frac{\\partial u}{\\partial t} + v \\frac{\\partial u}{\\partial x} = 0\n",
    "\\end{equation}\n",
    "\n",
    "Důvod je prostý, nejenže je rovnice jednodušší ale známe i analytické řešení této rovnice. Popisuje nám šíření signálu s počátečním tvarem $u(x,0) = u_0$. Exaktní řešení má tvar\n",
    "\n",
    "$$\n",
    "u(x,t) = u_0(x-vt),\n",
    "$$\n",
    "\n",
    "což znamená, že v případě lineární advekce se signál $u(x,t)$ šíří rychlostí $v$ a nemění přitom svůj počáteční tvar $u_0$. Ukázkové řešení rovnice *advekce*  budeme řešit pro dobu výpočtu $t=2.5$ a rychlost advekce $v=0.2$ "
   ]
  },
  {
   "cell_type": "markdown",
   "metadata": {},
   "source": [
    "Nyní přejdeme k numerickému řešení rovnice. V rámci názorné ilustrace použijeme pro časovou derivaci aproximaci **FDT** a pro prostorovou derivaci **BDS**. Rovnici  (9) tak přepíšeme do tvaru\n",
    "\n",
    "$$\n",
    "\\frac{u_i^{n+1}-u_i^n}{\\Delta t}+v\\frac{u_i^n-u_{i-1}^n}{\\Delta x} = 0\n",
    "$$\n",
    "\n",
    "Jedná se o explicitní přístup, takže si na pravou stranu převedeme všechny známé veličiny v daném časovém kroku\n",
    "\n",
    "$$\n",
    "u_i^{n+1} = u_i^{n}-v\\frac{\\Delta t}{\\Delta x}(u_i^{n}-u_{i-1})\n",
    "$$\n",
    "\n",
    "Toto jednoduché schéma (v literatuře označované jako *Upwind scheme* podle směru, ze kterého se šíří informace) nyní převedeme do PYTHONu"
   ]
  },
  {
   "cell_type": "code",
   "execution_count": 5,
   "metadata": {
    "collapsed": false
   },
   "outputs": [],
   "source": [
    "# Exact solution of linear advection equation\n",
    "\n",
    "%matplotlib inline\n",
    "import numpy as np\n",
    "import matplotlib.pylab as plt\n",
    "\n",
    "# Calculate initial box-profile\n",
    "def box_profile(x):\n",
    "    \n",
    "    u = np.ones_like(x)\n",
    "    ubound = np.where(x >= 0.5)\n",
    "    lbound = np.where(x <= 1)\n",
    "    u[np.intersect1d(lbound,ubound)] = 2.0\n",
    "    \n",
    "    return u\n"
   ]
  },
  {
   "cell_type": "code",
   "execution_count": 6,
   "metadata": {
    "collapsed": false
   },
   "outputs": [
    {
     "data": {
      "text/plain": [
       "[<matplotlib.lines.Line2D at 0x7f2743827978>]"
      ]
     },
     "execution_count": 6,
     "metadata": {},
     "output_type": "execute_result"
    },
    {
     "data": {
      "image/png": "[encoded data removed]",
      "text/plain": [
       "<matplotlib.figure.Figure at 0x7f27438a7908>"
      ]
     },
     "metadata": {},
     "output_type": "display_data"
    }
   ],
   "source": [
    "# Calculate exact solution of linear-advection equation\n",
    "# for given advection speed v and time t\n",
    "def solution_box(t,v,u,x):\n",
    "    u_new = np.empty(np.size(u))\n",
    "    u_new[np.where((x - v*t) < 0)] = 1.0\n",
    "    indexes = np.where((x - v*t) > 0)\n",
    "    u_new[indexes] = box_profile(x[indexes]-v*t)\n",
    "    return u_new\n",
    "\n",
    "# Initialize x-variable array \n",
    "x = np.linspace(0, 2, 100)\n",
    "\n",
    "# Initial profile \n",
    "u1 = box_profile(x)\n",
    "\n",
    "# Propagation time\n",
    "t = 2.5\n",
    "# Advection speed\n",
    "v = 0.2\n",
    "\n",
    "\n",
    "plt.figure(1)\n",
    "\n",
    "plt.subplot(121)\n",
    "plt.title('Initial profile t=0.0')\n",
    "plt.ylim((0.5,2.5))\n",
    "plt.xlim((0,2))\n",
    "plt.plot(x, u1, 'b-')\n",
    "\n",
    "\n",
    "u2 = solution_box(t,v,u1,x)\n",
    "\n",
    "plt.subplot(122)\n",
    "plt.title('Propagation t=2.5')\n",
    "plt.ylim(0.5,2.5)\n",
    "plt.xlim((0,2))\n",
    "plt.plot(x,u2,'r-')\n"
   ]
  },
  {
   "cell_type": "code",
   "execution_count": 7,
   "metadata": {
    "collapsed": false
   },
   "outputs": [],
   "source": [
    "# Casovy krok\n",
    "dt = 0.01\n",
    "N = 100\n",
    "\n",
    "# Diskretizace prostorove promenne x\n",
    "x = np.linspace(0,2,N)\n",
    "# Odpovidajici prostorovy krok\n",
    "dx = 0.02\n",
    "\n",
    "# Advekcni rychlost\n",
    "v = 0.2\n",
    "# Doba vypoctu\n",
    "t_end = 2.5\n",
    "\n",
    "# Definice prave strany numerickeho schematu\n",
    "def right_side(u,v,dt,dx):\n",
    "    \n",
    "    u_new=u.copy()\n",
    "    u_new[1:]=u[1:]-v*dt/dx*(u[1:]-u[:-1])\n",
    "    \n",
    "    return u_new\n",
    "   "
   ]
  },
  {
   "cell_type": "code",
   "execution_count": 8,
   "metadata": {
    "collapsed": false
   },
   "outputs": [
    {
     "data": {
      "text/plain": [
       "[<matplotlib.lines.Line2D at 0x7f2743793860>]"
      ]
     },
     "execution_count": 8,
     "metadata": {},
     "output_type": "execute_result"
    },
    {
     "data": {
      "image/png": "[encoded data removed]",
      "text/plain": [
       "<matplotlib.figure.Figure at 0x7f2743f94400>"
      ]
     },
     "metadata": {},
     "output_type": "display_data"
    }
   ],
   "source": [
    "# Okrajove podminky \n",
    "def boundary(u):\n",
    "    N = np.size(u)\n",
    "    # Periodic boundary\n",
    "    u[0] = u[N-1]\n",
    "    u[N-1] = u[N-2]\n",
    "    return u\n",
    "\n",
    "# Hlavni cyklus programu , opakujici vypocet do dosazeni daneho casu t_end\n",
    "def run():\n",
    "    t = 0.0\n",
    "    u = box_profile(x)\n",
    "    while (t < t_end): \n",
    "        u = right_side(u,v,dt,dx)\n",
    "        u = boundary(u)\n",
    "        t = t + dt\n",
    "    return u\n",
    "\n",
    "u = run()\n",
    "\n",
    "# Srovnani numerickeho a exaktniho reseni\n",
    "plt.plot(x,u1,'--')\n",
    "plt.plot(x,u,'-')\n",
    "plt.plot(x,u2,'r-')\n"
   ]
  },
  {
   "cell_type": "markdown",
   "metadata": {},
   "source": [
    "### Aktivity\n",
    "* Použijte ve výše uvedené schématu místo diference **BDS** diferenci **FDS** (analogicky se toto schéa označuje jako *downwind*)\n",
    "* Obdobně použijte diferenci **CDS**. Schéma upravte k výpočtu a diskutuje výsledek\n",
    "* Analyzujte vliv změny prostorového a časového kroku\n",
    "\n",
    "Předchozí jednoduché schéma bylo explicitní, ve schématu vystupovala v daném časovém kroku vždy jen jedna neznámá. Teď si ukážeme jednoduché implicitní schéma a vyjdeme z příkladu výše tedy rovnice advekce. V rámci aktivit jste měli napsat schéma, kde místo **BDS** diference jste použili diferenci **CDS**. To bude náš výchozí bod, přičemž diferenci upravíme tak, že hodnota diskrétní funkce $u$ v daném bodě $i-1$ resp. $i+1$ v časovém korku $n$, bude dána průměrem hodnot z časového kroku $n$ a $n+1$. Tedy\n",
    "\n",
    "\\begin{equation}\n",
    "\\frac{1}{2\\Delta x}\\left(u_{i+1}^n-u_{i-1}^n\\right) \\rightarrow \\frac{1}{2\\Delta x}\\left(\\frac{1}{2}\\left(u_{i+1}^{n+1}+u_{i+1}^n\\right)-\\frac{1}{2}\\left(u_{i-1}^{n+1}+u_{i-1}^{n}\\right)\\right)\n",
    "\\end{equation}\n",
    "\n",
    "Takto zvolené schéma se nazývá *Crank-Nicholsonovo* a díky kombinaci známých hodnot v čase $n$ a neznámých v čase $n+1$ vede k implicitnímu schématu, tedy k nutnosti řešení soustavy lineárních rovnic. Pro případ rovnice advekce má tvar\n",
    "\n",
    "\\begin{equation}\n",
    "u_{i}^{n+1} = u_i^n-\\frac{1}{2}\\frac{v\\Delta t}{\\Delta x}\\left(\\frac{1}{2}\\left(u_{i+1}^{n+1}+u_{i+1}^n\\right)-\n",
    "\\frac{1}{2}\\left(u_{i-1}^{n+1}+u_{i-1}^n\\right)\\right)\n",
    "\\end{equation}\n",
    "\n",
    "Všechny neznáme veličiny dáme na levou stranu a na pravé straně necháme všechny známé\n",
    "\n",
    "\\begin{equation}\n",
    "-\\frac{1}{4}\\frac{v\\Delta t}{\\Delta x}u_{i-1}^{n+1} + u_i^{n+1} + \\frac{1}{4}\\frac{v\\Delta t}{\\Delta x}u_{i+1}^{n+1}=u_i^n-\\frac{1}{4}\\frac{v\\Delta t}{\\Delta x}\\left(u_{i+1}^n-u_{i-1}^n\\right)\n",
    "\\end{equation}\n",
    "\n",
    "Pro přehlednost si ještě označíme\n",
    "\n",
    "$$\n",
    "\\beta = \\frac{1}{4}\\frac{v\\Delta t}{\\Delta x}\n",
    "$$\n",
    "\n",
    "a výsledné schéma je \n",
    "\n",
    "\\begin{equation}\n",
    "-\\beta u_{i-1}^{n+1}+ u_i^{n+1} + \\beta u_{i+1}^{n+1} = u_i^n- \\beta\\left(u_{i+1}^n-u_{i-1}^n\\right)\n",
    "\\end{equation}\n",
    "\n",
    "Jedná se o soustavu rovnic, která má v maticové formě tvar\n",
    "\n",
    "\\begin{equation}\n",
    "\\begin{pmatrix}\n",
    "1 & \\beta &  &  &  & 0 \\\\\n",
    "-\\beta & 1 & \\beta &  &  &  \\\\\n",
    " & -\\beta & 1 & \\beta &  &  \\\\\n",
    " &  & \\ddots  & \\ddots & \\ddots  & \\\\\n",
    " &  &  & -\\beta & 1 & \\beta \\\\\n",
    "0 &  &  &  & -\\beta & 1 \n",
    "\\end{pmatrix}\n",
    "\\begin{pmatrix}\n",
    "u_2 \\\\ \n",
    "u_3 \\\\\n",
    "\\vdots \\\\\n",
    "\\\\\n",
    "\\vdots \\\\\n",
    "u_{N-1}\n",
    "\\end{pmatrix}=\n",
    "\\begin{pmatrix}\n",
    "R_2 \\\\\n",
    "R_3 \\\\\n",
    "\\vdots \\\\\n",
    "\\\\\n",
    "\\vdots\\\\\n",
    "R_{N-1}\n",
    "\\end{pmatrix}\n",
    "\\end{equation}\n",
    "\n",
    "kde vektor pravých stran $R_i^{n}$ má tvar\n",
    "\n",
    "$$\n",
    "R_i = u_i^n-\\beta\\left(u_{i+1}^n-u_{i-1}^n\\right) \\quad i \\neq 2,{N-1}\n",
    "$$\n",
    "\n",
    "S použitím okrajových podmínek $u_1$ a $u_{N}$ platí pro \n",
    "\n",
    "\\begin{eqnarray}\n",
    "R_2 &=& u_2^n-\\beta\\left(u_{3}^n-u_{1}^n\\right) + \\beta u_{1}^n \\\\\n",
    "R_{N-1} &=& u_{N-1}-\\beta\\left(u_{N}^n-u_{N-2}^n\\right) - \\beta u_{N}^n \n",
    "\\end{eqnarray}\n",
    "\n",
    "Samozřejmě, že otázkou zůstává co dělat v případě, že se jedná o nelineární parciální diferenciální rovnici (jako je třeba *Burgersova rovnice*). Abychom se vyhnuli nutnosti řešit nelineární soustavu algebraických rovnic, je nejpre třeba rovnice linearizovat."
   ]
  },
  {
   "cell_type": "code",
   "execution_count": 9,
   "metadata": {
    "collapsed": false
   },
   "outputs": [],
   "source": [
    "%matplotlib inline\n",
    "from __future__ import division\n",
    "import numpy as np\n",
    "import scipy.linalg as sp \n",
    "from scipy.sparse.linalg import spsolve\n",
    "import matplotlib.pylab as plt\n",
    "\n",
    "## Gaussian profile\n",
    "def gaussian(x):\n",
    "    mu = 1.0\n",
    "    sig2 = 0.1\n",
    "    return 1.0/(np.sqrt(2.*np.pi*sig2))*np.exp(-np.power(x - mu, 2.)/(2.0*sig2))\n",
    "\n",
    "# Calculate initial box-profile\n",
    "def box_profile(x):\n",
    "    \n",
    "    u = np.ones_like(x)\n",
    "    ubound = np.where(x >= 0.5)\n",
    "    lbound = np.where(x <= 1)\n",
    "    u[np.intersect1d(lbound,ubound)] = 2.0\n",
    "    \n",
    "    return u\n"
   ]
  },
  {
   "cell_type": "code",
   "execution_count": 10,
   "metadata": {
    "collapsed": false
   },
   "outputs": [],
   "source": [
    "# Time-step size\n",
    "dt = 0.01\n",
    "N = 100\n",
    "\n",
    "# Advection speed\n",
    "v = 0.2\n",
    "\n",
    "# Time of calculation\n",
    "t_end = 2.25\n",
    "\n",
    "# Spatial grid: \n",
    "# x .. coordinate and dx .. equidistant step size\n",
    "x,dx = np.linspace(0,2,N,retstep=True)\n",
    "# Pamameter beta\n",
    "beta = 1.0/4.0*v*dt/dx\n",
    "    \n",
    "    \n",
    "# Linear set of algebraic equations\n",
    "# A x = b\n",
    "# ---------------------------------------\n",
    "# A ... matrix of linear set\n",
    "# b ... vector of right sides\n",
    "\n",
    "matrix = np.zeros((N-2,N-2))\n",
    "\n",
    "# Initial gaussian-profile\n",
    "\n",
    "u1 = gaussian(x)\n",
    "\n",
    "for i in range(N-2):\n",
    "    matrix[i,i] = 1.0\n",
    "    \n",
    "for i in range(N-3):\n",
    "    matrix[i,i+1] = beta\n",
    "    matrix[i+1,i] = -beta\n"
   ]
  },
  {
   "cell_type": "code",
   "execution_count": 11,
   "metadata": {
    "collapsed": false
   },
   "outputs": [
    {
     "name": "stderr",
     "output_type": "stream",
     "text": [
      "/home/olowathor/miniconda3/lib/python3.5/site-packages/scipy/sparse/linalg/dsolve/linsolve.py:96: SparseEfficiencyWarning: spsolve requires A be CSC or CSR matrix format\n",
      "  SparseEfficiencyWarning)\n"
     ]
    },
    {
     "data": {
      "text/plain": [
       "[<matplotlib.lines.Line2D at 0x7f27436feef0>]"
      ]
     },
     "execution_count": 11,
     "metadata": {},
     "output_type": "execute_result"
    },
    {
     "data": {
      "image/png": "[encoded data removed]",
      "text/plain": [
       "<matplotlib.figure.Figure at 0x7f274823eba8>"
      ]
     },
     "metadata": {},
     "output_type": "display_data"
    }
   ],
   "source": [
    "def right_sides(u,N):\n",
    "    \n",
    "    R = np.empty(N-2)\n",
    "    R[1:N-3] = u[2:N-2]-beta*(u[3:N-1]-u[1:N-3])\n",
    "    \n",
    "    R[0] = u[1]-beta*(u[2]-u[0])+beta*u[0]\n",
    "    R[N-3] = u[N-2]-beta*(u[N-1]-u[N-3])-beta*u[N-1]\n",
    "    \n",
    "    return R\n",
    "\n",
    "def run(t_end,N):\n",
    "    cas = 0.0\n",
    "    u = u1.copy()\n",
    "    while cas < t_end:\n",
    "        rs = right_sides(u,N)\n",
    "        u[1:N-1] = spsolve(matrix,rs)\n",
    "        \n",
    "        # Boundary condition\n",
    "        u[N-1] = u[N-2] # Free outflow\n",
    "        u[0] = 0.       # Zero inflow\n",
    "\n",
    "        cas = cas + dt\n",
    "    return u,cas\n",
    "\n",
    "\n",
    "u_res,cas = run(t_end,N)\n",
    "\n",
    "# Srovnani numerickeho a exaktniho reseni\n",
    "plt.plot(x,u1,'r--')\n",
    "plt.plot(x,u_res,'g.')\n",
    "plt.plot(x,gaussian(x-v*t_end),'b+')\n"
   ]
  },
  {
   "cell_type": "markdown",
   "metadata": {},
   "source": [
    "### Aktivity\n",
    "* Použijte místo počátečního Gaussova profilu jiný, nejlépe Box profil.\n",
    "\n",
    "## Stabilita numerického řešení\n",
    "\n",
    "Pokud jste si zodpovědně samostatně provedli všechny výše uvedené problémy a aktivity zjistili jste, že zdánlivě ekvivalentní změna v numerickém schématu spočívající v záměně **FDS** a **BDS** aproximace derivace může vést k zcela odlišnému nefyzikálnímu řešení. Příčinou tohoto chování je, že se schéma po této záměně stává nestabilním. \n",
    "\n",
    "Podíváme se na celý problém ve světle hyperbolických parciálních rovnic trochu detailněji, k tomuto účelu se ujasníme význam poměru $v{\\rm d}t/{\\rm d}x$. Udává část prostorového kroku, kterou urazí signál (informace) během jednoho časového kroku. Tento poměr hraje v otázkach stability klíčovou roli, jak uvidíme v následující části. v literatuře je označován jako *Courantovo-Friedrichsovo-Lewyho číslo* ve zkratce *CFL*. \n",
    "\n",
    "### Rovnice advekce\n",
    "\n",
    "Podíváme se na celý problém ve světle hyperbolických parciálních rovnic trochu detailněji, k tomuto účelu se ujasníme význam poměru $v{\\rm d}t/{\\rm d}x$. Udává část prostorového kroku, kterou urazí signál (informace) během jednoho časového kroku. Tento poměr hraje v otázkach stability klíčovou roli, jak uvidíme v následující části. v literatuře je označován jako *Courantovo-Friedrichsovo-Lewyho číslo* ve zkratce *CFL*. \n",
    "\n",
    "#### Von Neumannova analýza stability\n",
    "\n",
    "K samotné analýze stability použijeme klasický Fourierův rozvoj, kdy předpokládáme lokální chybu ve tvaru\n",
    "\n",
    "$$\n",
    "\\varepsilon_i^n \\propto \\exp{(ik x_i)}\n",
    "$$\n",
    "\n",
    "Kumulativní efekt zaokrouhlovacích chyb v následujícím časovém kroku lze vyjádřit jako\n",
    "\n",
    "$$\n",
    "\\varepsilon_i^{n+1} = g(k) \\varepsilon_i^n\n",
    "$$\n",
    "\n",
    "Velikost zesilovacího faktoru $g(k)$ dostaneme dosazením rozvoje do zvoleného numerického schématu (v našem případě *Upwind*), obdržíme tak\n",
    "\n",
    "\\begin{eqnarray}\n",
    "e^{(ik x_i)}g(k) &=& e^{(ik x_i)}-\\frac{v\\Delta t}{\\Delta x}\\left(e^{(ik x_i)}-e^{(ik (x_i -\\Delta x))}\\right) \\\\\n",
    "g(k) &=& 1 - \\alpha\\left(1-e^{-(ik\\Delta x)}\\right)\n",
    "\\end{eqnarray}\n",
    "\n",
    "kde $\\alpha = v\\Delta/\\Delta t$ je a $\\varphi_k = k\\Delta x$ fázi. Nutná podmínka stability je\n",
    "\n",
    "$$\n",
    "|g(k)| \\leq 1,\n",
    "$$\n",
    "\n",
    "která musí platit pro všechna $k$. Z této podmínky plyne\n",
    "\n",
    "\\begin{eqnarray}\n",
    "g(k)^2 &=& \\left[1-\\alpha+\\alpha\\cos{\\varphi_k}\\right]^2 + \\left[\\alpha\\sin{\\varphi_k}\\right]^2 \\\\\n",
    " &=& (1-\\alpha)^2 + 2\\alpha\\cos{\\varphi_k}(1-\\alpha)+\\alpha^2{\\cos^2{\\varphi_k}}+\\alpha^2{\\sin^2{\\varphi_k}} \\\\\n",
    " &=& (1-\\alpha)^2+2\\alpha\\cos{\\varphi_k}(1-\\alpha)+\\alpha^2 \\\\\n",
    " &=& 1-2\\alpha+\\alpha^2+\\alpha^2+2\\alpha(1-\\alpha)\\cos{\\varphi_k} \\\\\n",
    " &=& 1-2\\alpha(1-\\alpha-(1-\\alpha)\\cos{\\varphi_k}) \\\\\n",
    " &=& 1-2\\alpha(1-\\alpha)(1-\\cos{\\varphi_k}) \\\\\n",
    " &=& 1-4\\alpha(1-\\alpha)\\sin{\\frac{k\\Delta x}{2}}\n",
    "\\end{eqnarray}\n",
    "\n",
    "Z čehož plyne podmínka\n",
    "\n",
    "$$\n",
    "\\alpha \\leq 1 \\\\\n",
    "$$\n",
    "\n",
    "kterou dále použijeme pro stanovení časového kroku\n",
    "\n",
    "$$\n",
    "\\Delta t = c_{\\rm CFL}\\frac{\\Delta x}{v}\n",
    "$$\n",
    "\n",
    "kde je číslo $c_{\\rm CLF} < 1$. Toto číslo je v literatuře je označován jako *Courantovo-Friedrichsovo-Lewyho číslo* ve zkratce *CFL* a obvyklá hodnota je $0.4$. Volba velikosti tohoto čísla ovlivňuje přesnost řešení a zároveň jeho výpočetní dobu.\n",
    "\n",
    "Z fyzikálního heldiska nám podmínka říká, že časový krok $\\Delta t$ musí být menší než čas, potřebný k tomu, aby vlna (jakožto nositel informace) šířící se rychlostí $v$ urazila vzdálenost prostorového kroku. Jinými slovy *Courantova podmínka stability* zajišťuje, že doba šíření fyzikální poruchy je vždy menší než šíření numerické poruchy. Schématicky lze situaci znázorbni s pomocí oblasti závislosti, která je znázorněna na následujícím obrázku. Oblast závislosti vymezujicí body, které jsou kauzálně spojené s daným časovým bodem  jsou šrafovány šedou barvou. Přerušovanou čárou je vymezenna oblast numerické závislosti,  vymezuje výpočetní oblast numerického schématu pro konrétní bod sítě. Pokud je šedá oblast vždy podoblastí přerušované je schéma stabilní, v opačném případě nikoliv, protože důležité informace z některých bodů kauzálně spojených nejsou zahrnuty do výpočtu.\n",
    "\n",
    "![Courantova podmínka](courant_domain.png)\n",
    "\n",
    "Přestože tyto závěry plynou ze zjednodušeného problému lineární advekce a navíc z lineární analýzy stability, tyto závěry jsou zobecnitelné nejen na Burgersovu rovnici ale i na komplikovanější hydrodynamické rovnice, kde *Courantova podmínka* stability je základní podmínkou, kterou musí explicitní hydrodynamické kódy splňovat.\n",
    "\n",
    "### Aktivity\n",
    "* Proveďte stejnou analýzu pro schéma *Downwind* a *FTCS*\n",
    "* Diskutujte závěry této analýzy ve vztahu ke způsobu diferenciace \n",
    "* Analyzujte vliv velikosti *Courantova čísla* na přesnost řešení\n",
    "\n",
    "### Rovnice difůze\n",
    "\n",
    "Obdobný postup aplikujeme na difůzní rovnici, což je další zjednodušená verze rovnice *advekce-difůze*\n",
    "\n",
    "$$\n",
    "\\frac{\\partial u}{\\partial t} =  D \\frac{\\partial^2 u}{\\partial x^2}\n",
    "$$\n",
    "\n",
    "Jednoduchá diskretizační schéma této rovnice spočívá v použití vztahu pro druhou derivaci\n",
    "\n",
    "$$\n",
    "u_i^{n+1} = u_i^{n}+D\\frac{\\Delta t}{(\\Delta x)^2}\\left(u_{i+1}^n+u_{i-1}^2-2u_i^n\\right)\n",
    "$$\n",
    "\n",
    "Opět pro analýzu stability použijeme *Von Neumannovu* analýzu. Z Fourierova rozvoje dostáváme pro zesilovací faktor lokální chyby dosazením do diskretizačního schématu\n",
    "\n",
    "$$\n",
    "g(k) e^{ik x_i} = e^{ik x_i}+D\\frac{\\Delta t}{(\\Delta x)^2}\\left(e^{ik(x_i+\\Delta x)}+e^{ik(x_i-\\Delta x)}-2e^{ik x_i}\\right)\n",
    "$$\n",
    "\n",
    "Jednoduchými úpravami můžeme dále pokračovat\n",
    "\n",
    "\\begin{eqnarray}\n",
    "g(k) &=& 1 + \\beta\\left(e^{ik\\Delta x}+e^{-ik\\Delta x}-2\\right) \\\\\n",
    "&=& 1+\\beta\\left(2\\cos{\\varphi_k}-2\\right) \\\\\n",
    "&=& 1 -2\\beta\\left(1-\\cos{\\varphi_k}\\right) \\\\\n",
    "&=& 1 -4\\beta{\\sin^2{\\frac{\\varphi_k}{2}}}\n",
    "\\end{eqnarray}\n",
    "\n",
    "Uvědomíme-li si, že maximální hodnota goniometrické funkce je rovna jedné, pak platí k dosažení podmínky \n",
    "\n",
    "\\begin{eqnarray}\n",
    "|g(k)| \\leq 1  \\\\\n",
    "\\beta \\leq \\frac{1}{2}\n",
    "\\end{eqnarray}\n",
    "\n",
    "Pro časový krok tak tedy plyne podmínka\n",
    "\n",
    "$$\n",
    "\\Delta t \\leq \\frac{1}{2}\\frac{{\\Delta x}^2}{D} = \\frac{c_{\\rm Dif}}{2}\\frac{{\\Delta x}^2}{D}.\n",
    "$$\n",
    "\n",
    "kde opět $c_{\\rm Dif} \\leq 1$ je námi zvolené číslo.\n",
    "\n",
    "### Aktivity\n",
    "* Vyřešte difůzní rovnici na stejném prostorovém intervalu jako rovnici pro advekci s počátečním Gaussovým profilem s výpočetní dobou $t_{\\rm end}=2.5$. Číslo $c_{\\rm Dif}$ zvolte dle vlastního uvážení. Okrajové podmínky jsou nulové na obou koncích intervalu.\n",
    "* Řešte rovnici pro vedení tepla\n",
    "$$\n",
    "\\frac{\\partial u}{\\partial t} = \\frac{\\partial^2 u}{\\partial x^2}\n",
    "$$\n",
    "na prostorovém intervalu $ x= (0,1)$ s počátečním rozdělením teploty $f(x) = 2x(1-x)$ a okrajovýma podmínkama $u_l =0$, $u_r=0$. Výsledek zobrazte v grafu $x,t$ s pomocí barevné škály."
   ]
  },
  {
   "cell_type": "markdown",
   "metadata": {},
   "source": [
    "\n",
    "## Nejjednodušší numerická schémata\n",
    "\n",
    "Vrátíme se k původní rovnici *advekce-difůze*, jako první ilustrační případ zvolme pro časovou derivaci **FDT** diferenci a **CDS** pro advekční člen, druhá derivace je dána vztahem (4). Dostáváme výraz\n",
    "\n",
    "\\begin{equation}\n",
    "\\frac{u_{i}^{n+1}-u_i^{n}}{\\Delta t}= -v\\frac{u_{i+1}^n-u_{i-1}^n}{2\\Delta x}+D\\frac{u_{i+1}^n-2u_i^n+u_{i-1}^n}{(\\Delta x)^2},\n",
    "\\end{equation}\n",
    "\n",
    "který ještě přeuspořádáme do podoby numerického schématu (označovaného jako **FTCS**), abychom neznámé veličiny měli na leve straně a známe na pravé straně\n",
    "\n",
    "\\begin{equation}\n",
    "u_{i}^{n+1} = u_i^{n}-\\frac{1}{2}\\frac{v\\Delta t}{\\Delta x}(u_{i+1}^n-u_{i-1}^n)+D\\frac{\\Delta t}{(\\Delta x)^2}(u_{i+1}^n-2u_{i}^{n}+u_{i-1}^n).\n",
    "\\end{equation}\n",
    "\n",
    "Jak lze ale ukázat, tato metoda je numericky nestabilní.\n",
    "\n",
    "### Aktivity\n",
    "* Použijte Von Neumannovu analýzu stability na předchozí numerické schéma *FTCS*\n",
    "\n",
    "Je patrné, že způsob, jakým lze původní rovnici přepsat  (1) do diferenčního schématu není jednoznačný, máme nepřeberné množství možností explicitních i implicitních způsobů, které se navzájem liší výpočetní náročností, složitostí i stabilitou. V následujících odstavcích se seznámíme s dalšími nejpoužívanějšími metodami. "
   ]
  },
  {
   "cell_type": "markdown",
   "metadata": {},
   "source": [
    "### Laxova-Friedrichsova "
   ]
  },
  {
   "cell_type": "markdown",
   "metadata": {},
   "source": [
    "Předchozí uvedená metoda není příliš vhodná k praktické aplikaci, není příliš stabilní.  Podíváme se proto na jednu z dalších nejjednoduších metod, hojně využivanou v numerické hydrodynamice. Dostaneme ji  modifikací předchozího **FTCS** schématu a to nahrazením $u_i^{n}$ v časové derivaci v rovnici (7) průměrnou hodnotou určenou z jejich sousedů\n",
    "\n",
    "$$\n",
    "u_{i}^{n} \\approx \\frac{(u_{i+1}^{n}+u_{i-1}^n)}{2}.\n",
    "$$\n",
    "\n",
    "Obdržíme Laxovo diferenční schéma\n",
    "\n",
    "\\begin{equation}\n",
    "u_{i}^{n+1} = \\frac{1}{2}\\left(u_{i+1}^{n}+u_{i-1}^{n}\\right)-\\frac{1}{2}\\frac{v\\Delta t}{\\Delta x}\\left(u_{i+1}^n-u_{i-1}^n\\right)+D\\frac{\\Delta t}{(\\Delta x)^2}\\left(u_{i+1}^n-2u_{i}^{n}+u_{i-1}^n\\right)\n",
    "\\end{equation}\n",
    "\n",
    "Pro účely převodu algoritmu do PYTHONu je z důvodu přehlednosti ještě dobré dát k sobě členy vyčíslované ve stejných bodech. K tomuto ůčelu si označíme $\\alpha = v\\Delta t/\\Delta x$ a $\\beta=D\\Delta t/(\\Delta x)^2$\n",
    "\n",
    "$$\n",
    "u_{i}^{n+1} = u_{i-1}^n\\left(\\frac{1}{2}+\\frac{\\alpha}{2}+\\beta\\right)-2\\beta u_i^{n}\n",
    "+u_{i+1}^n\\left(\\frac{1}{2}-\\frac{\\alpha}{2}+\\beta\\right)\n",
    "$$\n",
    "\n",
    "Někdy je tato metoda označována ve zkratce pouze jako *Laxova*. "
   ]
  },
  {
   "cell_type": "markdown",
   "metadata": {},
   "source": [
    "### Laxova-Wendorfova metoda"
   ]
  },
  {
   "cell_type": "markdown",
   "metadata": {},
   "source": [
    "Tato metoda patří do speciální třídy *konzervativních* numerických schémat. Pro lepší pochopení si přepíšeme rovnici advekce do tvaru\n",
    "\n",
    "$$\n",
    "\\frac{\\partial u}{\\partial t}+\\frac{\\partial F}{\\partial x} = 0\n",
    "$$\n",
    "\n",
    "Veličinu $F(u)$, která má v případě lineární advekce tvar $F = v u$ označujeme jako zobecněný tok. Základním pílířem tohoto schématu je Taylorův rozvoj v bodě $u_{j}^{n+1}$\n",
    "\n",
    "$$\n",
    "u_j^{n+1} = u_j^n+{\\Delta t}\\left.\\frac{\\partial u}{\\partial t}\\right|_{j}^n+\\frac{(\\Delta t)^2}{2}\\left. \\frac{\\partial^2 u}{\\partial t^2}\\right|_j^n+\\dots\n",
    "$$\n",
    "\n",
    "Z rovnice advekce platí\n",
    "\n",
    "$$\n",
    "\\left.\\frac{\\partial u}{\\partial t}\\right|_j^n = -v\\left.\\frac{\\partial u}{\\partial x}\\right|_j^n  \\quad \\left.\\frac{\\partial^2 u}{\\partial t^2}\\right|_j^n = v^2\\left.\\frac{\\partial^2 u}{\\partial x^2}\\right|_j^n \n",
    "$$\n",
    "\n",
    "Za derivace dosadíme aproximativni výrazy, konkrétně **CDS** a výraz pro druhou derivaci\n",
    "\n",
    "$$\n",
    "\\left.\\frac{\\partial u}{\\partial x}\\right|_j^n \\approx \\frac{u_{j+1}^n-u_{j-1}^n}{(2\\Delta x)} \\quad \\left.\\frac{\\partial^2 u}{\\partial x^2}\\right|_j^n \\approx \\frac{u_{j+1}^n-2u_j^n+u_{j-1}^n}{(\\Delta x)^2}\n",
    "$$\n",
    "\n",
    "Dosazením do výše uvedeného Taylorova rozvoje obdržíme\n",
    "\n",
    "$$\n",
    "u_j^{n+1} = u_j^n-\\frac{1}{2}\\frac{v \\Delta t}{\\Delta x}\\left(u_{j+1}^n-u_{j-1}^n\\right)+\\frac{\\Delta t}{2}\\left(\\frac{v}{\\Delta x}\\right)^2\\left(u_{j+1}^n-2u_j^n+u_{j-1}^n\\right)\n",
    "$$\n",
    "\n",
    "Jak je patrné již z Taylorova rozvoje, jedná se o metodu druhého řádu s chybou $\\mathcal{O}\\left((\\Delta t)^2,(\\Delta x)^2\\right)$. \n",
    "\n",
    "Aplikaci toho schématu na rovnici advekce-difůze provedeme přidáním difůzního členu\n",
    "\n",
    "$$\n",
    "u_j^{n+1} = u_j^n-\\frac{1}{2}\\frac{v \\Delta t}{\\Delta x}\\left(u_{j+1}^n-u_{j-1}^n\\right)+\\frac{\\Delta t}{2}\\left(\\frac{v}{\\Delta x}\\right)^2\\left(u_{j+1}^n-2u_j^n+u_{j-1}^n\\right) + D\\frac{\\Delta t}{(\\Delta x)^2}(u_{j+1}^n-2u_{j}^{n}+u_{j-1}^n)\n",
    "$$\n",
    "\n",
    "Srovnáním vztahů vidíme, že toto schéma má v důsledku zahrnutí vyššího řádu vyšší difůzní člen:\n",
    "\n",
    "$$\n",
    "u_j^{n+1} = u_j^n-\\frac{1}{2}\\frac{v \\Delta t}{\\Delta x}\\left(u_{j+1}^n-u_{j-1}^n\\right)+\\frac{v\\Delta t}{\\Delta x}\\left(\\frac{v}{2\\Delta x}+\\frac{D}{\\Delta x}\\right)\\left(u_{j+1}^n-2u_j^n+u_{j-1}^n\\right) \n",
    "$$\n",
    "\n",
    "Pro lepší přehlednost si dále označíme $\\alpha = v\\Delta t/\\Delta x$ a $\\beta = D/(\\Delta x)$ a dáme k sobě jednotlivé členy ve stejných bodech\n",
    "\n",
    "$$\n",
    "u_j^{n+1} = u_{j-1}\\left(\\frac{\\alpha}{2}+\\frac{\\alpha^2}{2\\Delta t}+\\alpha\\beta\\right)+u_j^n\\left(1-\\frac{\\alpha^2}{\\Delta t}-2\\alpha\\beta\\right)+u_{j+1}\\left(-\\frac{\\alpha}{2}+\\frac{\\alpha^2}{2\\Delta t}+\\alpha\\beta\\right)\n",
    "$$"
   ]
  },
  {
   "cell_type": "markdown",
   "metadata": {},
   "source": [
    "### Leapfrog schéma\n",
    "\n",
    "Dalším velmi schéma (mimochodem velmi používané jako integrátor v částicových simulacích) dostaneme modifikací *FTCS*\n",
    "kdy v časové derivaci použijeme aproximaci druhého řádu"
   ]
  },
  {
   "cell_type": "markdown",
   "metadata": {},
   "source": [
    "### Zobecněné *Upwind* schéma"
   ]
  },
  {
   "cell_type": "markdown",
   "metadata": {},
   "source": [
    "Zvolené schéma volí jiný přístup, respektuje fyzikální podstatu problému, jinými slovy respektruje směr šíření proudu (tedy informace) v advekčním členu rovnice (9). Místo použití CD prostorové diference pro advekční člen se použije buď FD pro případ záporné advekční rychlosti $v<0$, nebo BD v případě kladné advekční rychlosti $v>0$. Výsledné schéma\n",
    "\n",
    "\\begin{eqnarray}\n",
    "u_{i}^{n+1} = u_{i}^{n}+D\\frac{\\Delta t}{(\\Delta x)^2}(u_{i+1}^n-2u_{i}^{n}+u_{i-1}^n)-\n",
    "\\begin{cases}\n",
    "\\frac{v\\Delta t}{\\Delta x}(u_{i}^n-u_{i-1}^n) \\quad v > 0\\\\\n",
    "\\frac{v\\Delta t}{\\Delta x}(u_{i+1}^n-u_{i}^n) \\quad v < 0\\\n",
    "\\end{cases}\n",
    "\\end{eqnarray}"
   ]
  },
  {
   "cell_type": "markdown",
   "metadata": {},
   "source": [
    "### Crank-Nicholson"
   ]
  },
  {
   "cell_type": "markdown",
   "metadata": {},
   "source": [
    "Nemusíme se však omezit pouze na explicitní metody. Znamým příkladem implicitní metody je Crankovo-Nicholsonovo schéma, kde pro výpočet použijeme hodnoty v čase $t$ a $t+\\Delta$ a to tak, že pro stanovení výsledné hodnoty použijeme průměr obou hodnot. Rovnici přepíšeme (\\ref{rovnice}), \n",
    "\n",
    "\\begin{eqnarray}\n",
    "u_{i}^{n+1} = u_i^{n} - \\frac{1}{2} \\frac{v\\Delta t}{\\Delta x} (\\frac{1}{2} (u_{i+1}^{n+1} + u_{i+1}^{n}) - \\frac{1}{2} (u_{i-1}^{n+1} + u_{i-1}^{n})) +\\\\\n",
    "D \\frac{\\Delta t}{(\\Delta x)^2}\n",
    "(\\frac{1}{2} (u_{i+1}^{n+1} + u_{i+1}^n) - \\frac{1}{2} (2u_{i}^{n+1} + 2u_{i}^n) + \\frac{1}{2} (u_{i-1}^{n+1} + u_{i-1}^n)\n",
    "\\end{eqnarray}\n",
    "\n",
    "a následně ještě schéma upravíme\n",
    "\n",
    "\\begin{eqnarray}\n",
    "u_{i}^{n+1} & = & u_i^{n} - \\frac{1}{4} \\frac{v\\Delta t}{\\Delta x} (u_{i+1}^{n+1} - u_{i-1}^{n+1} + u_{i+1}^{n} - u_{i-1}^n) \\\\\n",
    "\\nonumber & + & D \\frac{\\Delta t}{(\\Delta x)^2} \\frac{1}{2} (u_{i+1}^{n+1} - 2u_{i}^{n+1} + u_{i-1}^{n+1} + u_{i+1}^n-2u_i^n + u_{i-1}^n).\n",
    "\\end{eqnarray}\n",
    "\n",
    "Vidíme, že na rozdíl od předchozích případů nám neznámé hodnoty funkce $u_{j}^{n+1}$ v diskrétních bodech $j$ vystupují i na pravé straně. Toto schéma vede  v tomto případě k řešení soustavy (ne)linearních rovnic  (v případě nelinearity nutno linearizovat - například Burgersova rovnice). Pokud však $v=0$, dostáváme difůzní rovnici a lineární soustavu. Soustavu rovnic nejprve přepíšeme tak, že všechny neznáme veličiny převedeme na levou stranu. Označme\n",
    "\n",
    "$$\n",
    "\\sigma = \\frac{D\\Delta t}{2\\Delta x^2}\n",
    "$$\n",
    "\n",
    "$$\n",
    "\\rho = \\frac{1}{4}\\frac{v\\Delta t}{\\Delta x}\n",
    "$$\n",
    "\n",
    "pak můžeme psát pro rovnice (\\ref{crank_1})\n",
    "\n",
    "\\begin{equation}\n",
    "u_{i-1}^{n+1}(-\\sigma-\\rho)+u_i^{n+1}(1+2\\sigma)+u_{i+1}^{n+1} = u_{i-1}^n(\\sigma+\\rho)+u_i^{n}(1-2\\sigma)+u_{i+1}^{n}(\\sigma-\\rho)\n",
    "\\end{equation}\n",
    "\n",
    "V maticovém formalismu můžeme rovnice přepsat následovně s použitím substituce $A = -(\\sigma+\\rho)$, $B = (1+2\\sigma)$, $C = (\\rho-\\sigma)$\n",
    "\n",
    "\\begin{equation}\n",
    "\\begin{pmatrix}\n",
    "B & C & & & & 0 \\\\\n",
    "A & B & C & & & \\\\\n",
    " & A & B & C & &  \\\\\n",
    " & & \\ddots & \\ddots & \\ddots & \\\\\n",
    " & & & A & B & C \\\\\n",
    "0 & & & & A & B \n",
    "\\end{pmatrix}\n",
    "\\begin{pmatrix}\n",
    "u_1 \\\\ \n",
    "u_2 \\\\\n",
    "\\vdots \\\\\n",
    "\\\\\n",
    "\\vdots \\\\\n",
    "u_{M}\n",
    "\\end{pmatrix}=\n",
    "\\begin{pmatrix}\n",
    "R_1 \\\\\n",
    "R_2 \\\\\n",
    "\\vdots \\\\\n",
    " \\\\\n",
    "\\vdots \\\\\n",
    "R_M\n",
    "\\end{pmatrix}\n",
    "\\end{equation}\n",
    "\n",
    "Vektor pravých stran je dán vztahem\n",
    "\n",
    "\\begin{equation}\n",
    "R_i = u_{i-1}^n(\\sigma+\\rho)+u_i^n(1-2\\sigma)+u_{i+1}^n(\\sigma-\\rho) \\quad (i \\neq 1,M)\n",
    "\\end{equation}\n",
    "\n",
    "Pro případ hodnoty $R_0,R_M$, je nutné si uvědomit, že hodnota funkce $u_{0}^{n+1}$ a $u_{M+1}^{n+1}$ je známa díky počatečním podmínkám, konkrétně\n",
    "\n",
    "\\begin{eqnarray}\n",
    "u_{0}^{n+1} &=& u_{0}^{n} \\\\\n",
    "u_{M+1}^{n+1} &=& u_{M+1}^{n} \n",
    "\\end{eqnarray}"
   ]
  },
  {
   "cell_type": "markdown",
   "metadata": {},
   "source": [
    "### Aktivity:\n",
    "\n",
    "* Provedťe převod rovnice advekce-difůze do uvedených numerických schémat a vyřešte. Parametry problému jsou koeficient difúze $D$, rychlost advekce $v$. Diskutujte řešení a jeho stabilitu. Časový krok zvolte jako nejemnší hodnotu z obou kriterií (jak pro advekci tak pro difůzi)\n",
    "* Volbou parametru $D=0$ resp. $v=0$ převedťe problém na řešení rovnice lineární advekce a rovnice difůze. Srovnejte s předchozími výsledky řešení *lineární advekce*"
   ]
  },
  {
   "cell_type": "markdown",
   "metadata": {
    "collapsed": true
   },
   "source": []
  },
  {
   "cell_type": "code",
   "execution_count": null,
   "metadata": {
    "collapsed": true
   },
   "outputs": [],
   "source": []
  }
 ],
 "metadata": {
  "kernelspec": {
   "display_name": "Python 3",
   "language": "python",
   "name": "python3"
  },
  "language_info": {
   "codemirror_mode": {
    "name": "ipython",
    "version": 3
   },
   "file_extension": ".py",
   "mimetype": "text/x-python",
   "name": "python",
   "nbconvert_exporter": "python",
   "pygments_lexer": "ipython3",
   "version": "3.5.1"
  },
  "latex_envs": {
   "bibliofile": "biblio.bib",
   "cite_by": "apalike",
   "current_citInitial": 1,
   "eqLabelWithNumbers": false,
   "eqNumInitial": 0
  }
 },
 "nbformat": 4,
 "nbformat_minor": 0
}
