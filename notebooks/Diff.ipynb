{
 "cells": [
  {
   "cell_type": "markdown",
   "metadata": {},
   "source": [
    "# Základy řešení parciálních diferenciálních rovnic"
   ]
  },
  {
   "cell_type": "markdown",
   "metadata": {},
   "source": [
    "Zavzpomíname-li na základní kurzy matematické analýzy, jistě si vzpomene, jak nesnadné je analytické řešení parciálních diferenciálních rovnic, pokud vůbec lze řešení najít. Když pomineme učebnicové příklady (za zmínku stojí například vlnová rovnice), stojíme většinou před neřešitelným problémem. Naštestí pro nás ale pro fyziku obecně, pomocnou ruku nám podá numerické řešení problému a síla současné výpočetní techniky - počítače. Jak ale na to? Jak převést rovnici, kterou jsme dostali aplikací fyzikálních zákonů pro konkrétní problém do řeči čísel? Následující kapitola se vám pokusí v tom udělat trochu jasněji."
   ]
  },
  {
   "cell_type": "markdown",
   "metadata": {},
   "source": [
    "## Metoda konečných diferencí"
   ]
  },
  {
   "cell_type": "markdown",
   "metadata": {},
   "source": [
    "Jednou z nejpoužívanějších metod, která je zároveň vhodná pro názornou ilustraci, je *metoda konečných diferencí*. Nejedná se o nic jiného než diskrétní reprezentaci patřičných proměnných, funkcí a derivací definovaného problému, se kterou jsme se již setkali v kapitole *Řešení obyčejných diferenciálních rovnic*. Na úvod to zni složitě ale ve skutečnosti je to velmi jednoduché. Vše co k tomu budeme potřebovat je znalost Taylorova rozvoje funkce. Názorně si to ilustrujeme na jednoduché rovnici advekce-difůze\n",
    "\n",
    "\\begin{equation}\n",
    "\\frac{\\partial u}{\\partial t} + v \\frac{\\partial u}{\\partial x} = D \\frac{\\partial^2 u}{\\partial x^2}\n",
    "\\tag{1}\n",
    "\\end{equation}\n",
    "\n",
    "zahrnující v sobě jak difúzní $D\\frac{{\\partial}^2 u}{\\partial x^2}$ , tak advekční člen $v\\frac{\\partial u}{\\partial x}$. Funkce $u(x,t)$ nám udává $x$-ovou hodnotu rychlosti. Numerický přístup řešení této rovnice spočívá v reprezentaci $u$ souborem diskrétních hodnot $u_{i}$ v bodech diskrétní sítě \n",
    "\n",
    "$$\n",
    "x_0, x_1, x_2, x_3, \\dots, x_i \\dots, x_N \\quad (x_0 < x_1 < x_2 \\dots < x_{N})\n",
    "$$\n",
    "\n",
    "Na první pohled je patrné, že s rostoucím počtem bodů sítě, se bude naše reprezentace blížit skutečné, které bychom dosáhli pro $N = \\infty$."
   ]
  },
  {
   "cell_type": "markdown",
   "metadata": {},
   "source": [
    "### Prostorové derivace"
   ]
  },
  {
   "cell_type": "markdown",
   "metadata": {},
   "source": [
    "S touto reprezentací se můžeme dále pustit do aproximací prostorových derivací. K tomu využijeme Taylorova rozvoje okolo bodu $u_i$ pro hodnotu v bodě $u_{i+1}$. Směle můžeme psát"
   ]
  },
  {
   "cell_type": "markdown",
   "metadata": {},
   "source": [
    "\\begin{equation}\n",
    "u_{i+1}=u_{i}+\\left(\\frac{\\partial u}{\\partial x}\\right)_{i}\\Delta x + \\left(\\frac{{\\partial}^2 u}{\\partial x^2}\\right)_{i}\\frac{(\\Delta x)^2}{2}+\n",
    "\\left(\\frac{{\\partial}^3 u}{\\partial x^3}\\right)_{i}\\frac{(\\Delta x)^3}{6}+\\dots\n",
    "\\label{FF}\n",
    "\\end{equation}"
   ]
  },
  {
   "cell_type": "markdown",
   "metadata": {},
   "source": [
    "Obdobně pro hodnotu $u_{i-1}$\n",
    "\n",
    "\\begin{equation}\n",
    "u_{i-1}=u_{i}-\\left(\\frac{\\partial u}{\\partial x}\\right)_{i}\\Delta x + \\left(\\frac{{\\partial}^2 u}{\\partial x^2}\\right)_{i}\\frac{(\\Delta x)^2}{2}-\n",
    "\\left(\\frac{{\\partial}^3 u}{\\partial x^3}\\right)_{i}\\frac{(\\Delta x)^3}{6}+\\dots\n",
    "\\label{FB}\n",
    "\\end{equation}\n",
    "\n",
    "Z Taylorova rozvoje můžeme jednoduše vyjádřit vztah pro derivaci v daném bodě $i$ pomocí hodnot např. $u_{i}$ a $u_{i+1}$ (nebo také  $u_{i}$ a $u_{i-1}$)\n",
    "\n",
    "$$\n",
    "\\left(\\frac{\\partial u}{\\partial x}\\right)_{i}=\\frac{u_{i+1}-u_{i}}{\\Delta x}-\\left(\\frac{{\\partial}^2 u}{\\partial x^2}\\right)\\frac{\\Delta x}{2}-\\left(\\frac{{\\partial}^3 u}{\\partial x^3}\\right)\\frac{(\\Delta x)^2}{6}+\\dots\n",
    "$$\n",
    "\n",
    "Tím se dostaváme k určení prvních derivací podle prostorové souřadnice, rozlišujeme"
   ]
  },
  {
   "cell_type": "markdown",
   "metadata": {},
   "source": [
    "<div class=\"panel panel-primary\">\n",
    "<div class=\"panel-heading\">Diference I. řádu - první derivace</div>\n",
    "<div class=\"panel-body\">\n",
    "\n",
    "<strong>Prostorové diference (vpřed) FDS</strong>\n",
    "\n",
    "\\begin{equation}\n",
    "\\left(\\frac{\\partial u}{\\partial x}\\right)_{i}= \\frac{u_{i+1}-u_{i}}{\\Delta x}+O(\\Delta x)\n",
    "\\label{FD}\n",
    "\\end{equation}\n",
    "\n",
    "<strong>Prostorové diference (dozadu) BDS</strong>\n",
    "\\begin{equation}\n",
    "\\left(\\frac{\\partial u}{\\partial x}\\right)_{i}= \\frac{u_{i}-u_{i-1}}{\\Delta x}+O(\\Delta x)\n",
    "\\label{BD}\n",
    "\\end{equation}\n",
    "\n",
    "</div>\n",
    "</div>"
   ]
  },
  {
   "cell_type": "markdown",
   "metadata": {},
   "source": [
    "Vidíme tak, že první prostorové derivace naší funkce můžeme jednoduše vyjádřit ze znalostí hodnot funkce $u$ v diskrétních bodech $i-1, i, i+1$, v závislosti na zvoleném způsobu (\\ref{FD}) resp. (\\ref{BD}). Chyba, které se při této aproximaci dopouštíme, je prvního řádu $O(\\Delta x)$, jak je patrné z Taylorova rozvoje.\n",
    "\n",
    "V mnoha případech není však metoda prvního řádu dostatečná, je třeba použít přesnější metody, tedy druhého řádu. \n",
    "Odečtením rovnic (\\ref{FF}) a (\\ref{FB}) pro diferenci vzad a vpřed s Taylorovym rozvojem dostaneme výraz pro středovou diferenci (CD) s přesností druhého řádu"
   ]
  },
  {
   "cell_type": "markdown",
   "metadata": {},
   "source": [
    "<div class=\"panel panel-primary\">\n",
    "<div class=\"panel-heading\">Diference II.řádu - první derivace</div>\n",
    "<div class=\"panel-body\">\n",
    "\n",
    "**Prostorové diference (centrální) CDS**\n",
    "\n",
    "\\begin{equation}\n",
    "\\left(\\frac{\\partial u}{\\partial x}\\right)_{i}= \\frac{u_{i+1}-u_{i-1}}{2\\Delta x}+O(\\Delta x)^2\n",
    "\\label{CD}\n",
    "\\end{equation}\n",
    "\n",
    "</div>\n",
    "</div>"
   ]
  },
  {
   "cell_type": "markdown",
   "metadata": {},
   "source": [
    "Nic nám již nebrání, abychom vyjádřili i druhé derivace. Stačí nám k tomu sečíst rovnice (\\ref{FF}) a (\\ref{FB}) a po úpravě dostáváme pro druhou derivaci diferenční vztah s přesností třetího řádu"
   ]
  },
  {
   "cell_type": "markdown",
   "metadata": {},
   "source": [
    "<div class=\"panel panel-primary\">\n",
    "<div class=\"panel-heading\">Diference I. řádu - druhá derivace</div>\n",
    "<div class=\"panel-body\">\n",
    "**Diferenční vztah pro druhou derivaci**\n",
    "\n",
    "\\begin{equation}\n",
    "\\left(\\frac{{\\partial}^2 u}{\\partial x^2}\\right)_{i}=\\frac{u_{i+1}-2u_i+u_{i-1}}{(\\Delta x)^2}\n",
    "\\tag{4}\n",
    "\\end{equation}\n",
    "\n",
    "</div>\n",
    "</div>"
   ]
  },
  {
   "cell_type": "markdown",
   "metadata": {},
   "source": [
    "### Časové derivace"
   ]
  },
  {
   "cell_type": "markdown",
   "metadata": {},
   "source": [
    "Obdobně budeme postupovat při určování časové derivace, nicméně je třeba přiznat, že se nám situace trochu komplikuje. Příčina změny je patrná z předchozích vzorců, rozdíl spočívá ve znalosti prostorových hodnot $u_i$ v daném časovém okamžiku. Prostorové derivace můžeme vyjádřit velmi snadno, pro časovou derivaci je třeba uvážit, že známé hodnoty funkce $u_i(t)$ jsou pouze ty současné (přítomnost) a z předchozích kroků (minulost). Hodnoty následující nám známé nejsou a je třeba je určit. Pro lepší pochopení si nejprve formálně vyjádříme časovou derivaci z rovnice  (1)\n",
    "\n",
    "\\begin{equation}\n",
    "\\frac{\\partial u}{\\partial t}=h(u,x,t)\n",
    "\\tag{3}\n",
    "\\end{equation}\n",
    "\n",
    "Dále budeme postupovat jako pro prostorové derivace, nejprve diskretizujeme čas na jednotlivé kroky\n",
    "\n",
    "$$\n",
    "t_0, t_1, t_2, t_3, \\dots, t_{n} \\dots, x_{M} \\quad (t_0 < t_1 < t_2 \\dots < t_{M}).\n",
    "$$\n",
    "\n",
    "Pak rovnice (3) v jednotlivých časových krocích má podobu\n",
    "\n",
    "\\begin{equation}\n",
    "\\left(\\frac{\\partial u}{\\partial t}\\right)^{n}=h^{n}(u^{n},x,t_{n})\n",
    "\\tag{4}\n",
    "\\end{equation}\n",
    "\n",
    "kde horní index u diskrétních veličin značí $n-$-tý časový krok. Následně aproximujeme časovou derivaci podle stejného receptu jako pro prostorové derivace, tedy z Taylorova rozvoje. Dostáváme pro dopřednou diferenci"
   ]
  },
  {
   "cell_type": "markdown",
   "metadata": {},
   "source": [
    "<div class=\"panel panel-primary\">\n",
    "<div class=\"panel-heading\">Časové diference I. řádu</div>\n",
    "<div class=\"panel-body\">\n",
    "\n",
    "**(vpřed) FDT**\n",
    "\n",
    "\\begin{equation}\n",
    "\\left(\\frac{\\partial u}{\\partial t}\\right)_{i}^{n} = \\frac{u_{i}^{n+1}-u_{i}^{n}}{\\Delta t} + O(\\Delta t)\n",
    "\\end{equation}\n",
    "\n",
    "</div>\n",
    "</div>"
   ]
  },
  {
   "cell_type": "markdown",
   "metadata": {},
   "source": [
    "Víme, že díky počatečním podmínkám známe v daném počátečním okamžiku $t_0$ všechny hodnoty \n",
    "$u_i$, pro $i=1,\\dots,N$.  Jak je patrné ze vztahu pro časovou derivaci **FDT**, veličinou s neznámou hodnotou je $u_i^{n+1}$, kterou určíme na základě známých hodnot z času $t_n$. Pro časovou derivaci (3) aproximovanou s pomocí **FDT** tedy platí\n",
    "\n",
    "\\begin{eqnarray}\n",
    "\\frac{u_{i}^{n+1}-u_{i}^{n}}{\\Delta t}=h^{n}(u^{n},x,t_n)\\\\\n",
    "u_{i}^{n+1}=u_{i}^n+h^{n}\\Delta{t}+O(\\Delta x).\n",
    "\\tag{5}\n",
    "\\end{eqnarray}\n",
    "\n",
    "Tento hojně využívaný přístup je označován jako explicitní metoda konečných diferencí v čase směrem vpřed (**FFTD**). Obdobně pokud využijeme druhý způsob vyjádření derivace, tedy  zpětnou differenci"
   ]
  },
  {
   "cell_type": "markdown",
   "metadata": {},
   "source": [
    "<div class=\"panel panel-primary\">\n",
    "<div class=\"panel-heading\">Časové diference I. řádu</div>\n",
    "<div class=\"panel-body\">\n",
    "\n",
    "**Časové diference (dozadu) BDT**\n",
    "\n",
    "\\begin{equation}\n",
    "\\left(\\frac{\\partial u}{\\partial t}\\right)_{i}^{n}= \\frac{u_{i}^{n}-u_{i}^{n-1}}{\\Delta t}+O(\\Delta t)\n",
    "\\end{equation}\n",
    "\n",
    "<div>\n",
    "</div>"
   ]
  },
  {
   "cell_type": "markdown",
   "metadata": {},
   "source": [
    "Pro časovou derivaci (3) aproximovanou pomocí **BDT** tak plyne\n",
    "\n",
    "\\begin{equation}\n",
    "\\frac{u_{i}^{n}-u_{i}^{n-1}}{\\Delta t}=h^n(u^{n},x,t_n).\n",
    "\\tag{6}\n",
    "\\end{equation}\n",
    "\n",
    "Rozdílná situace oproti vztahu (5) spočívá v neznalosti $u^n$ a $h^n$. přeznačením $n \\equiv (n+1)$ dostaneme ekvivaletní vztah, ve kterém však vystupují neznámé veličiny na obou stranách\n",
    "\\begin{equation}\n",
    "u_{i}^{n+1}=u_{i}^n+h^{n+1}\\Delta{t}+O(\\Delta x).\n",
    "\\end{equation}\n",
    "\n",
    "Toto schéme je označována jako implicitní metoda (**BFTD**). Sečtením vztahů (6) a (5) dostaneme pak obdobné vyjádření (taktéž implicitní) takzvané centrální diferenční schéma **CDT** (s přesností druhého řádu)\n",
    "\n",
    "\\begin{equation}\n",
    "u_{i}^{n+1}=u_{i}^n+\\frac{(h^{n+1}+h^{n})}{2}\\Delta{t}+O(\\Delta x)^2\n",
    "\\tag{8}\n",
    "\\end{equation}\n",
    "\n",
    "O tom, který ze způsobu vyjádření je lepší lze vést dlouhé diskuze, každý z těchto způsobů má své výhody a nevýhody, ať už z hlediska výpočetních nároků a nebo stability. \n",
    "\n",
    "## Problém lineární advekce\n",
    "Nyní je již vše připraveno pro převod (1) do diskrétního schématu. Abychom si celou situaci více zjednodušili, předpokládejme, že ze koeficient difůze $D=0$. Rovnice se nám redukuje na tvar\n",
    "\n",
    "\\begin{equation}\n",
    "\\frac{\\partial u}{\\partial t} + v \\frac{\\partial u}{\\partial x} = 0\n",
    "\\tag{9}\n",
    "\\end{equation}\n",
    "\n",
    "Důvod je prostý, nejenže je rovnice jednodušší ale známe i analytické řešení této rovnice. Popisuje nám šíření signálu s počátečním tvarem $u(x,0) = u_0$. Exaktní řešení má tvar\n",
    "\n",
    "$$\n",
    "u(x,t) = u_0(x-vt),\n",
    "$$\n",
    "\n",
    "což znamená, že v případě lineární advekce se signál $u(x,t)$ šíří rychlostí $v$ a nemění přitom svůj počáteční tvar $u_0$. Ukázka řešení rovnice *advekce-difůze* pro čas $t=2.5$ a rychlost advekce $v=0.2$ ilustrujeme následujícím příkladem"
   ]
  },
  {
   "cell_type": "code",
   "execution_count": 11,
   "metadata": {
    "collapsed": false
   },
   "outputs": [
    {
     "data": {
      "text/plain": [
       "[<matplotlib.lines.Line2D at 0x7fa816a6cb90>]"
      ]
     },
     "execution_count": 11,
     "metadata": {},
     "output_type": "execute_result"
    },
    {
     "data": {
      "image/png": "[encoded data removed]",
      "text/plain": [
       "<matplotlib.figure.Figure at 0x7fa817ade090>"
      ]
     },
     "metadata": {},
     "output_type": "display_data"
    }
   ],
   "source": [
    "# Exact solution of linear advection equation\n",
    "\n",
    "%matplotlib inline\n",
    "import numpy as np\n",
    "import matplotlib.pylab as plt\n",
    "\n",
    "# Calculate initial box-profile\n",
    "def box_profile(x):\n",
    "    \n",
    "    u = np.ones_like(x)\n",
    "    ubound = np.where(x >= 0.5)\n",
    "    lbound = np.where(x <= 1)\n",
    "    u[np.intersect1d(lbound,ubound)] = 2.0\n",
    "    \n",
    "    return u\n",
    "\n",
    "# Calculate exact solution of linear-advection equation\n",
    "# for given advection speed v and time t\n",
    "def solution(t,v,u,x):\n",
    "    u_new = np.empty(np.size(u))\n",
    "    u_new[np.where((x - v*t) < 0)] = 1.0\n",
    "    indexes = np.where((x - v*t) > 0)\n",
    "    u_new[indexes] = box_profile(x[indexes]-v*t)\n",
    "    return u_new\n",
    "\n",
    "# Initialize x-variable array\n",
    "x = np.linspace(0, 2, 100)\n",
    "\n",
    "# Initial profile\n",
    "u1 = box_profile(x)\n",
    "\n",
    "\n",
    "# Propagation time\n",
    "t = 2.5\n",
    "# Advection speed\n",
    "v = 0.2\n",
    "\n",
    "\n",
    "plt.figure(1)\n",
    "\n",
    "plt.subplot(121)\n",
    "plt.title('Initial profile t=0.0')\n",
    "plt.ylim((0.5,2.5))\n",
    "plt.xlim((0,2))\n",
    "plt.plot(x, u1, 'b-')\n",
    "\n",
    "\n",
    "u2 = solution(t,v,u1,x)\n",
    "\n",
    "plt.subplot(122)\n",
    "plt.title('Propagation t=0.9')\n",
    "plt.ylim(0.5,2.5)\n",
    "plt.xlim((0,2))\n",
    "plt.plot(x,u2,'r-')"
   ]
  },
  {
   "cell_type": "markdown",
   "metadata": {},
   "source": [
    "Nyní přejdeme k numerickému řešení rovnice. V rámci názorné ilustrace použijeme pro časovou derivaci aproximaci **FDT** a pro prostorovou derivaci **BDS**. Rovnici  (9)\n",
    "tak přepíšeme do tvaru\n",
    "\n",
    "$$\n",
    "\\frac{u_i^{n+1}-u_i^n}{\\Delta t}+v\\frac{u_i^n-u_{i-1}^n}{\\Delta x} = 0\n",
    "$$"
   ]
  },
  {
   "cell_type": "markdown",
   "metadata": {},
   "source": [
    "## Nejjednodušší numerická schémata\n",
    "\n",
    "Pro náš ilustrační případ zvolme pro časovou derivaci **FDT** diferenci a **CDS** pro advekční člen, druhá derivace je dána vztahem (4). Dostáváme výraz\n",
    "\n",
    "\\begin{equation}\n",
    "\\frac{u_{i}^{n+1}-u_i^{n}}{\\Delta t}= -v\\frac{u_{i+1}^n-u_{i-1}^n}{2\\Delta x}+D\\frac{u_{i+1}^n-2u_i^n+u_{i-1}^n}{(\\Delta x)^2},\n",
    "\\end{equation}\n",
    "\n",
    "který ještě přeuspořádáme do podoby numerického schématu (označovaného jako **FTCS**), abychom neznámé veličiny měli na leve straně a známe na pravé straně\n",
    "\n",
    "\\begin{equation}\n",
    "u_{i}^{n+1} = u_i^{n}-\\frac{1}{2}\\frac{v\\Delta t}{\\Delta x}(u_{i+1}^n-u_{i-1}^n)+D\\frac{\\Delta t}{(\\Delta x)^2}(u_{i+1}^n-2u_{i}^{n}+u_{i-1}^n).\n",
    "\\tag{9}\n",
    "\\end{equation}\n",
    "\n",
    "Je patrné, že způsob, jakým lze původní rovnici přepsat  (1) do diferenčního schématu není jednoznačný, máme nepřeberné množství možností explicitních i implicitních způsobů, které se navzájem liší výpočetní náročností, složitostí i stabilitou. V následujících odstavcích se seznámíme s nejpouživanějšími metodami. "
   ]
  },
  {
   "cell_type": "markdown",
   "metadata": {},
   "source": [
    "### Laxova metoda"
   ]
  },
  {
   "cell_type": "markdown",
   "metadata": {},
   "source": [
    "Předchozí uvedená metoda není příliš vhodná k praktické aplikaci, není příliš stabilní. Otázkou stability se budeme zabývat blíže později.  Podíváme se proto na jednu z nejjednoduších metod, hojně využivanou v numerické hydrodynamice. Dostaneme ji  modifikací předchozího **FTCS** schématu a to nahrazením $u_i^{n}$ v časové derivaci v rovnici (7) průměrnou hodnotou určenou z jejich sousedů\n",
    "\n",
    "$$\n",
    "u_{i}^{n} \\approx \\frac{(u_{i+1}^{n}+u_{i-1}^n)}{2}.\n",
    "$$\n",
    "\n",
    "Obdržíme Laxovo diferenční schéma\n",
    "\n",
    "\\begin{equation}\n",
    "u_{i}^{n+1} = \\frac{1}{2}(u_{i+1}^{n}+u_{i-1}^{n})-\\frac{1}{2}\\frac{v\\Delta t}{\\Delta x}(u_{i+1}^n-u_{i-1}^n)+D\\frac{\\Delta t}{(\\Delta x)^2}(u_{i+1}^n-2u_{i}^{n}+u_{i-1}^n)\n",
    "\\end{equation}"
   ]
  },
  {
   "cell_type": "markdown",
   "metadata": {},
   "source": [
    "### Upwind schéma"
   ]
  },
  {
   "cell_type": "markdown",
   "metadata": {},
   "source": [
    "Zvolené schéma volí jiný přístup, respektuje fyzikální podstatu problému, jinými slovy respektruje směr šíření proudu (tedy informace) v advekčním členu rovnice (\\ref{rovnice}). Místo použití CD prostorové diference pro advekční člen se použije buď FD pro případ záporné advekční rychlosti$ v < 0$, nebo BD v případě kladné advekční rychlosti $v>0$. Výsledné schéma\n",
    "\n",
    "\\begin{eqnarray}\n",
    "u_{i}^{n+1} = u_{i}^{n}+D\\frac{\\Delta t}{(\\Delta x)^2}(u_{i+1}^n-2u_{i}^{n}+u_{i-1}^n)-\n",
    "\\begin{cases}\n",
    "\\frac{v\\Delta t}{\\Delta x}(u_{i}^n-u_{i-1}^n) \\quad v > 0\\\\\n",
    "\\frac{v\\Delta t}{\\Delta x}(u_{i+1}^n-u_{i}^n) \\quad v < 0\\\n",
    "\\end{cases}\n",
    "\\label{upwind}\n",
    "\\end{eqnarray}"
   ]
  },
  {
   "cell_type": "markdown",
   "metadata": {},
   "source": [
    "### Crank-Nicholson"
   ]
  },
  {
   "cell_type": "markdown",
   "metadata": {},
   "source": [
    "Nemusíme se však omezit pouze na explicitní metody. Znamým příkladem implicitní metody je Crankovo-Nicholsonovo schéma, kde pro výpočet použijeme hodnoty v čase $t$ a $t+\\Delta$ a to tak, že pro stanovení výsledné hodnoty použijeme průměr obou hodnot. Rovnici přepíšeme (\\ref{rovnice}), \n",
    "\n",
    "\\begin{eqnarray}\n",
    "u_{i}^{n+1} = u_i^{n} - \\frac{1}{2} \\frac{v\\Delta t}{\\Delta x} (\\frac{1}{2} (u_{i+1}^{n+1} + u_{i+1}^{n}) - \\frac{1}{2} (u_{i-1}^{n+1} + u_{i-1}^{n})) +\\\\\n",
    "D \\frac{\\Delta t}{(\\Delta x)^2}\n",
    "(\\frac{1}{2} (u_{i+1}^{n+1} + u_{i+1}^n) - \\frac{1}{2} (2u_{i}^{n+1} + 2u_{i}^n) + \\frac{1}{2} (u_{i-1}^{n+1} + u_{i-1}^n)\n",
    "\\end{eqnarray}\n",
    "\n",
    "a následně ještě schéma upravíme\n",
    "\n",
    "\\begin{eqnarray}\n",
    "u_{i}^{n+1} & = & u_i^{n} - \\frac{1}{4} \\frac{v\\Delta t}{\\Delta x} (u_{i+1}^{n+1} - u_{i-1}^{n+1} + u_{i+1}^{n} - u_{i-1}^n) \\\\\n",
    "\\nonumber & + & D \\frac{\\Delta t}{(\\Delta x)^2} \\frac{1}{2} (u_{i+1}^{n+1} - 2u_{i}^{n+1} + u_{i-1}^{n+1} + u_{i+1}^n-2u_i^n + u_{i-1}^n).\n",
    "\\label{crank_1}\n",
    "\\end{eqnarray}\n",
    "\n",
    "Vidíme, že na rozdíl od předchozích případů nám neznámé hodnoty funkce $u_{j}^{n+1}$ v diskrétních bodech $j$ vystupují i na pravé straně. Toto schéma vede  v tomto případě k řešení soustavy (ne)linearních rovnic  (v případě nelinearity nutno linearizovat - například Burgersova rovnice). Pokud však $v=0$, dostáváme difůzní rovnici a lineární soustavu. Soustavu rovnic nejprve přepíšeme tak, že všechny neznáme veličiny převedeme na levou stranu. Označme\n",
    "\n",
    "$$\n",
    "\\sigma = \\frac{D\\Delta t}{2\\Delta x^2}\n",
    "$$\n",
    "\n",
    "$$\n",
    "\\rho = \\frac{1}{4}\\frac{v\\Delta t}{\\Delta x}\n",
    "$$\n",
    "\n",
    "pak můžeme psát pro rovnice (\\ref{crank_1})\n",
    "\n",
    "\\begin{equation}\n",
    "u_{i-1}^{n+1}(-\\sigma-\\rho)+u_i^{n+1}(1+2\\sigma)+u_{i+1}^{n+1} = u_{i-1}^n(\\sigma+\\rho)+u_i^{n}(1-2\\sigma)+u_{i+1}^{n}(\\sigma-\\rho)\n",
    "\\end{equation}\n",
    "\n",
    "V maticovém formalismu můžeme rovnice přepsat následovně s použitím substituce $A = -(\\sigma+\\rho)$, $B = (1+2\\sigma)$, $C = (\\rho-\\sigma)$\n",
    "\n",
    "\\begin{equation}\n",
    "\\begin{pmatrix}\n",
    "B & C & 0 & \\cdots & \\cdots & 0 \\\\\n",
    "A & B & C & \\ddots & \\ddots & \\vdots \\\\\n",
    "0 & A & B & \\ddots & \\ddots & \\vdots \\\\\n",
    "\\vdots & \\ddots & \\ddots & \\ddots & \\ddots & 0\\\\\n",
    "\\vdots & \\ddots & \\ddots & A & B & C \\\\\n",
    "0 & \\cdots & \\cdots & 0 & A & B \n",
    "\\end{pmatrix}\n",
    "\\begin{pmatrix}\n",
    "u_1 \\\\ \n",
    "u_2 \\\\\n",
    "\\vdots \\\\\n",
    "\\\\\n",
    "\\vdots \\\\\n",
    "u_{M}\n",
    "\\end{pmatrix}=\n",
    "\\begin{pmatrix}\n",
    "R_1 \\\\\n",
    "R_2 \\\\\n",
    "\\vdots \\\\\n",
    " \\\\\n",
    "\\vdots \\\\\n",
    "R_M\n",
    "\\end{pmatrix}\n",
    "\\end{equation}\n",
    "\n",
    "Vektor pravých stran je dán vztahem\n",
    "\n",
    "\\begin{equation}\n",
    "R_i = u_{i-1}^n(\\sigma+\\rho)+u_i^n(1-2\\sigma)+u_{i+1}^n(\\sigma-\\rho) \\quad (i \\neq 1,M)\n",
    "\\end{equation}\n",
    "\n",
    "Pro případ hodnoty $R_0,R_M$, je nutné si uvědomit, že hodnota funkce $u_{0}^{n+1}$ a $u_{M+1}^{n+1}$ je známa díky počatečním podmínkám, konkrétně\n",
    "\n",
    "\\begin{eqnarray}\n",
    "u_{0}^{n+1} &=& u_{0}^{n} \\\\\n",
    "u_{M+1}^{n+1} &=& u_{M+1}^{n} \n",
    "\\end{eqnarray}"
   ]
  },
  {
   "cell_type": "markdown",
   "metadata": {},
   "source": [
    "### Aktivity:\n",
    "\n",
    "* Provedťe převod rovnice advekce-difůze do uvedených numerických schémat a vyřešte. Parametry problému jsou koeficient difúze $D$, rychlost advekce $v$. Diskutujte řešení a jeho stabilitu\n",
    "* Volbou parametru $D=0$ resp. $v=0$ převedťe problém na řešení rovnice lineární advekce a rovnice difůze. Diskutujte změnu chování v numerickém řešení."
   ]
  },
  {
   "cell_type": "markdown",
   "metadata": {
    "collapsed": true
   },
   "source": []
  }
 ],
 "metadata": {
  "kernelspec": {
   "display_name": "Python 2",
   "language": "python",
   "name": "python2"
  },
  "language_info": {
   "codemirror_mode": {
    "name": "ipython",
    "version": 2
   },
   "file_extension": ".py",
   "mimetype": "text/x-python",
   "name": "python",
   "nbconvert_exporter": "python",
   "pygments_lexer": "ipython2",
   "version": "2.7.9"
  },
  "latex_envs": {
   "bibliofile": "biblio.bib",
   "cite_by": "apalike",
   "current_citInitial": 1,
   "eqLabelWithNumbers": false,
   "eqNumInitial": 0
  }
 },
 "nbformat": 4,
 "nbformat_minor": 0
}
