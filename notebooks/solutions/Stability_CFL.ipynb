{
 "cells": [
  {
   "cell_type": "code",
   "execution_count": 1,
   "metadata": {
    "collapsed": true
   },
   "outputs": [],
   "source": [
    "# Import libraries\n",
    "%matplotlib inline\n",
    "from __future__ import division\n",
    "import scipy.linalg as sp \n",
    "from scipy.sparse.linalg import spsolve\n",
    "from scipy.sparse import diags\n",
    "from scipy.sparse import csc_matrix\n",
    "import numpy as np\n",
    "import matplotlib.pylab as plt\n",
    "import timeit"
   ]
  },
  {
   "cell_type": "markdown",
   "metadata": {},
   "source": [
    "## Initial values and constants\n",
    "$$\\Delta{t}=c_{CFL}\\frac{\\Delta{x}}{v}$$"
   ]
  },
  {
   "cell_type": "code",
   "execution_count": 2,
   "metadata": {
    "collapsed": false
   },
   "outputs": [
    {
     "name": "stdout",
     "output_type": "stream",
     "text": [
      "0.04040404040404041\n"
     ]
    }
   ],
   "source": [
    "#Advection speed\n",
    "v = 0.2\n",
    "\n",
    "#Terminal time\n",
    "t_end = 2.5\n",
    "\n",
    "#Number of iterations\n",
    "N = 100\n",
    "\n",
    "#Courants-Fridrichs-Lewys constant\n",
    "CFL = 0.4\n",
    "\n",
    "#Spatial coordinate discretisation\n",
    "x,dx = np.linspace(0,2,N,retstep=True)\n",
    "\n",
    "#Application of Courants-Fridrichs-Lewys constant\n",
    "dt = CFL*dx/v\n",
    "print(dt)\n",
    "\n",
    "#t_kroku = t_end / dt"
   ]
  },
  {
   "cell_type": "markdown",
   "metadata": {},
   "source": [
    "## Initiation of vector u and profiles"
   ]
  },
  {
   "cell_type": "code",
   "execution_count": 3,
   "metadata": {
    "collapsed": false
   },
   "outputs": [],
   "source": [
    "def box_profile(x):\n",
    "    u = np.ones_like(x)\n",
    "    ubound = np.where(x >= 0.5)\n",
    "    lbound = np.where(x <= 1)\n",
    "    u[np.intersect1d(lbound,ubound)] = 2.0\n",
    "    \n",
    "    return u\n",
    "\n",
    "u = box_profile(x)"
   ]
  },
  {
   "cell_type": "markdown",
   "metadata": {},
   "source": [
    "## FDT and FDS  - DOWNWIND - stabilization with CFL\n",
    "## FDT\n",
    "\n",
    "\\begin{equation}\n",
    "\\left(\\frac{\\partial u}{\\partial t}\\right)_{i}^{n} = \\frac{u_{i}^{n+1}-u_{i}^{n}}{\\Delta t} + O(\\Delta t)\n",
    "\\end{equation}\n",
    "\n",
    "## FDS\n",
    "\\begin{equation}\n",
    "\\left(\\frac{\\partial u}{\\partial x}\\right)_{i}= \\frac{u_{i+1}-u_{i}}{\\Delta x}+O(\\Delta x)\n",
    "\\end{equation}\n",
    "\n",
    "## Both\n",
    "$$\n",
    "\\frac{u_i^{n+1}-u_i^n}{\\Delta t}+v\\frac{u_{i+1}^n-u_{i}^n}{\\Delta x} = 0\n",
    "$$\n",
    "\n",
    "$$\n",
    "u_i^{n+1} = u_i^{n}-v\\frac{\\Delta t}{\\Delta x}(u_{i+1}^{n}-u_{i})\n",
    "$$"
   ]
  },
  {
   "cell_type": "code",
   "execution_count": 6,
   "metadata": {
    "collapsed": false
   },
   "outputs": [
    {
     "name": "stdout",
     "output_type": "stream",
     "text": [
      "[  1.00000000e+00   6.75578521e+12  -1.42428012e+13   2.80168540e+13\n",
      "  -5.13488400e+13   8.75411245e+13  -1.38558818e+14   2.03160413e+14\n",
      "  -2.75246510e+14   3.43562445e+14  -3.93741842e+14   4.12684722e+14\n",
      "  -3.93741842e+14   3.40106332e+14  -2.64239228e+14   1.83208951e+14\n",
      "  -1.12275804e+14   6.00907520e+13  -2.76612413e+13   1.07366476e+13\n",
      "  -3.43192189e+12   9.14095472e+11  -3.32765720e+11   5.00262405e+11\n",
      "  -1.24159019e+12   2.99355850e+12  -6.75578521e+12   1.42428012e+13\n",
      "  -2.80168540e+13   5.13488400e+13  -8.75411245e+13   1.38558818e+14\n",
      "  -2.03160413e+14   2.75246510e+14  -3.43562445e+14   3.93741842e+14\n",
      "  -4.12684722e+14   3.93741842e+14  -3.40106331e+14   2.64239223e+14\n",
      "  -1.83208928e+14   1.12275700e+14  -6.00903327e+13   2.76596477e+13\n",
      "  -1.07309687e+13   3.41294260e+12  -8.54616848e+11   1.58024377e+11\n",
      "  -1.91878376e+10   1.14799028e+09   1.00000000e+00   1.00000000e+00\n",
      "   1.00000000e+00   1.00000000e+00   1.00000000e+00   1.00000000e+00\n",
      "   1.00000000e+00   1.00000000e+00   1.00000000e+00   1.00000000e+00\n",
      "   1.00000000e+00   1.00000000e+00   1.00000000e+00   1.00000000e+00\n",
      "   1.00000000e+00   1.00000000e+00   1.00000000e+00   1.00000000e+00\n",
      "   1.00000000e+00   1.00000000e+00   1.00000000e+00   1.00000000e+00\n",
      "   1.00000000e+00   1.00000000e+00   1.00000000e+00   1.00000000e+00\n",
      "   1.00000000e+00   1.00000000e+00   1.00000000e+00   1.00000000e+00\n",
      "   1.00000000e+00   1.00000000e+00   1.00000000e+00   1.00000000e+00\n",
      "   1.00000000e+00   1.00000000e+00   1.00000000e+00   1.00000000e+00\n",
      "   1.00000000e+00   1.00000000e+00   1.00000000e+00   1.00000000e+00\n",
      "   1.00000000e+00   1.00000000e+00   1.00000000e+00   1.00000000e+00\n",
      "   1.00000000e+00   1.00000000e+00   1.00000000e+00   1.00000000e+00]\n"
     ]
    },
    {
     "data": {
      "text/plain": [
       "[<matplotlib.lines.Line2D at 0x7f815304efd0>]"
      ]
     },
     "execution_count": 6,
     "metadata": {},
     "output_type": "execute_result"
    },
    {
     "data": {
      "image/png": "[encoded data removed]",
      "text/plain": [
       "<matplotlib.figure.Figure at 0x7f8155965208>"
      ]
     },
     "metadata": {},
     "output_type": "display_data"
    }
   ],
   "source": [
    "def FDT_FDS(u,x,dx,v,dt,t_end):\n",
    "    t = 0.0\n",
    "    u_new = np.ones_like(u)\n",
    "\n",
    "    while (t < t_end):\n",
    "        #Boundary conditions\n",
    "        u_new[0] = 1\n",
    "        u_new[-1] = 1\n",
    "        #u_new[1] = u_new[-2]\n",
    "        \n",
    "        #Forward time and forward space difference\n",
    "        u_new[1:-2] = u[1:-2] - v*(dt/dx)*(u[2:-1]-u[1:-2])\n",
    "        u = u_new\n",
    "        #Saving u_new - TO DO\n",
    "        #Adding timestep\n",
    "        t += dt\n",
    "    return u\n",
    "\n",
    "solution_FF = FDT_FDS(u,x,dx,v,dt,t_end)\n",
    "print(solution_FF)\n",
    "\n",
    "# Srovnani numerickeho a exaktniho reseni\n",
    "plt.plot(x,solution_FF,'--')"
   ]
  },
  {
   "cell_type": "code",
   "execution_count": null,
   "metadata": {
    "collapsed": true
   },
   "outputs": [],
   "source": []
  }
 ],
 "metadata": {
  "kernelspec": {
   "display_name": "Python 3",
   "language": "python",
   "name": "python3"
  },
  "language_info": {
   "codemirror_mode": {
    "name": "ipython",
    "version": 3
   },
   "file_extension": ".py",
   "mimetype": "text/x-python",
   "name": "python",
   "nbconvert_exporter": "python",
   "pygments_lexer": "ipython3",
   "version": "3.5.1"
  }
 },
 "nbformat": 4,
 "nbformat_minor": 0
}
