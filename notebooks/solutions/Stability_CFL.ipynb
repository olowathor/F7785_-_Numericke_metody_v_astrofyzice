{
 "cells": [
  {
   "cell_type": "code",
   "execution_count": 1,
   "metadata": {
    "collapsed": true
   },
   "outputs": [],
   "source": [
    "# Import libraries\n",
    "%matplotlib inline\n",
    "from __future__ import division\n",
    "import scipy.linalg as sp \n",
    "from scipy.sparse.linalg import spsolve\n",
    "from scipy.sparse import diags\n",
    "from scipy.sparse import csc_matrix\n",
    "import numpy as np\n",
    "import matplotlib.pylab as plt\n",
    "import timeit"
   ]
  },
  {
   "cell_type": "markdown",
   "metadata": {},
   "source": [
    "## Initial values and constants\n",
    "$$\\Delta{t}=c_{CFL}\\frac{\\Delta{x}}{v}$$"
   ]
  },
  {
   "cell_type": "code",
   "execution_count": 2,
   "metadata": {
    "collapsed": false
   },
   "outputs": [
    {
     "name": "stdout",
     "output_type": "stream",
     "text": [
      "0.04040404040404041\n"
     ]
    }
   ],
   "source": [
    "#Advection speed\n",
    "v = 0.2\n",
    "\n",
    "#Terminal time\n",
    "t_end = 2.5\n",
    "\n",
    "#Number of iterations\n",
    "N = 100\n",
    "\n",
    "#Courants-Fridrichs-Lewys constant\n",
    "CFL = 0.4\n",
    "\n",
    "#Spatial coordinate discretisation\n",
    "x,dx = np.linspace(0,2,N,retstep=True)\n",
    "\n",
    "#Application of Courants-Fridrichs-Lewys constant\n",
    "dt = CFL*dx/v\n",
    "print(dt)\n",
    "\n",
    "#t_kroku = t_end / dt"
   ]
  },
  {
   "cell_type": "markdown",
   "metadata": {},
   "source": [
    "## Initiation of vector u and profiles"
   ]
  },
  {
   "cell_type": "code",
   "execution_count": 3,
   "metadata": {
    "collapsed": false
   },
   "outputs": [],
   "source": [
    "def box_profile(x):\n",
    "    u = np.ones_like(x)\n",
    "    ubound = np.where(x >= 0.5)\n",
    "    lbound = np.where(x <= 1)\n",
    "    u[np.intersect1d(lbound,ubound)] = 2.0\n",
    "    \n",
    "    return u\n",
    "\n",
    "u = box_profile(x)"
   ]
  },
  {
   "cell_type": "markdown",
   "metadata": {},
   "source": [
    "## FDT and FDS  - DOWNWIND - stabilization with CFL\n",
    "## FDT\n",
    "\n",
    "\\begin{equation}\n",
    "\\left(\\frac{\\partial u}{\\partial t}\\right)_{i}^{n} = \\frac{u_{i}^{n+1}-u_{i}^{n}}{\\Delta t} + O(\\Delta t)\n",
    "\\end{equation}\n",
    "\n",
    "## FDS\n",
    "\\begin{equation}\n",
    "\\left(\\frac{\\partial u}{\\partial x}\\right)_{i}= \\frac{u_{i+1}-u_{i}}{\\Delta x}+O(\\Delta x)\n",
    "\\end{equation}\n",
    "\n",
    "## Both\n",
    "$$\n",
    "\\frac{u_i^{n+1}-u_i^n}{\\Delta t}+v\\frac{u_{i+1}^n-u_{i}^n}{\\Delta x} = 0\n",
    "$$\n",
    "\n",
    "$$\n",
    "u_i^{n+1} = u_i^{n}-v\\frac{\\Delta t}{\\Delta x}(u_{i+1}^{n}-u_{i})\n",
    "$$"
   ]
  },
  {
   "cell_type": "code",
   "execution_count": null,
   "metadata": {
    "collapsed": false
   },
   "outputs": [],
   "source": [
    "def FDT_FDS(u,x,dx,v,dt,t_end):\n",
    "    t = 0.0\n",
    "    u_new = np.ones_like(u)\n",
    "\n",
    "    while (t < t_end):\n",
    "        #Boundary conditions\n",
    "        u_new[0] = 1\n",
    "        u_new[-1] = 1\n",
    "        #u_new[1] = u_new[-2]\n",
    "        \n",
    "        #Forward time and forward space difference\n",
    "        u_new[1:-1] = u[1:-1] - v*(dt/dx)*(u[2:]-u[1:-1])\n",
    "        u = u_new\n",
    "        #Saving u_new - TO DO\n",
    "        #Adding timestep\n",
    "        t += dt\n",
    "    return u\n",
    "\n",
    "solution_FF = FDT_FDS(u,x,dx,v,dt,t_end)\n",
    "print(solution_FF)\n",
    "\n",
    "# Srovnani numerickeho a exaktniho reseni\n",
    "plt.plot(x,solution_FF,'--')"
   ]
  },
  {
   "cell_type": "code",
   "execution_count": null,
   "metadata": {
    "collapsed": true
   },
   "outputs": [],
   "source": []
  }
 ],
 "metadata": {
  "kernelspec": {
   "display_name": "Python 3",
   "language": "python",
   "name": "python3"
  },
  "language_info": {
   "codemirror_mode": {
    "name": "ipython",
    "version": 3
   },
   "file_extension": ".py",
   "mimetype": "text/x-python",
   "name": "python",
   "nbconvert_exporter": "python",
   "pygments_lexer": "ipython3",
   "version": "3.5.1"
  }
 },
 "nbformat": 4,
 "nbformat_minor": 0
}
