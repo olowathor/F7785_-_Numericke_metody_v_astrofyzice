{
 "cells": [
  {
   "cell_type": "markdown",
   "metadata": {},
   "source": [
    "# Zadání - Řešte numericky rovnici advekce\n",
    "## Exaktní řešení\n",
    "$u(x,t) = u_0(x-vt)$\n",
    "## Počáteční profil\n",
    "$x\\:\\epsilon <0,2>$:\n",
    "\n",
    "pro $x < 0.5$ a $x > 1$: $y = 0$\n",
    "\n",
    "pro $x > 0.5$ a $x < 1$: $y = 1$\n",
    "\n",
    "$v = 0.2$\n",
    "\n",
    "$t_{end} = 2.5$\n",
    "\n",
    "$N = 100$\n",
    "\n",
    "$dt = 0.01$\n",
    "\n",
    "## Okrajové podmínky\n",
    "$u_1 = u_n$\n",
    "\n",
    "## Postup\n",
    " * Diskretizace $u(x,t)$\n",
    " * Počáteční profil\n",
    " * FDT (dopředná časová diference), BDS (zpětná prostorová diference)\n",
    " * Schéma:"
   ]
  },
  {
   "cell_type": "code",
   "execution_count": 1,
   "metadata": {
    "collapsed": true
   },
   "outputs": [],
   "source": [
    "import numpy as np\n",
    "from matplotlib import pyplot as plt"
   ]
  },
  {
   "cell_type": "markdown",
   "metadata": {},
   "source": [
    "## Diskretizace, počáteční hodnoty a počáteční profil"
   ]
  },
  {
   "cell_type": "code",
   "execution_count": 4,
   "metadata": {
    "collapsed": false
   },
   "outputs": [],
   "source": [
    "v = 0.2\n",
    "t_end = 2.5\n",
    "dt = 0.01\n",
    "t_kroku = t_end / dt\n",
    "N = 100\n",
    "\n",
    "#Diskretizace prostorové souřadnice\n",
    "x = np.linspace(0,2,N)\n",
    "dx = np.copy(x[1])\n",
    "\n",
    "def box_profile(x):\n",
    "    #Počáteční profil\n",
    "    u = np.ones_like(x)\n",
    "\n",
    "    #u[np.where((x > 0.5) and (x < 1))] = 2.0 #Viktorova rada\n",
    "    x_mask = np.where([(el > 0.5) and (el < 1) for el in x])\n",
    "    u[x_mask] = 2.0\n",
    "    #print(u)\n",
    "\n",
    "    return u\n",
    "\n",
    "u = box_profile(x)"
   ]
  },
  {
   "cell_type": "markdown",
   "metadata": {},
   "source": [
    "## FDT - Dopředná časová diference a BDS - Zpětná prostorová diference - UPWIND"
   ]
  },
  {
   "cell_type": "code",
   "execution_count": 5,
   "metadata": {
    "collapsed": false
   },
   "outputs": [
    {
     "name": "stdout",
     "output_type": "stream",
     "text": [
      "[ 1.00000141  1.00000323  1.00000141  1.0000006   1.00000025  1.0000001\n",
      "  1.00000004  1.00000002  1.00000001  1.          1.          1.          1.\n",
      "  1.          1.          1.          1.          1.          1.          1.\n",
      "  1.          1.          1.          1.          1.          1.          1.\n",
      "  1.          1.00000002  1.00000012  1.00000067  1.00000316  1.00001273\n",
      "  1.0000448   1.00013995  1.00039296  1.00100204  1.00234052  1.00504435\n",
      "  1.01009488  1.01886297  1.0330734   1.05465763  1.08548883  1.12703233\n",
      "  1.179983    1.2439822   1.3174996   1.39792777  1.48188192  1.56564226\n",
      "  1.64564114  1.71889206  1.78328131  1.8376852   1.88192035  1.91656871\n",
      "  1.94273475  1.96178967  1.97514153  1.9840492   1.98947945  1.99199697\n",
      "  1.99167918  1.98806051  1.98012628  1.96638736  1.94506218  1.91436933\n",
      "  1.87289769  1.81998334  1.75600201  1.68249317  1.60206901  1.51811667\n",
      "  1.43435714  1.35435861  1.28110783  1.21671863  1.16231466  1.11807898\n",
      "  1.08342813  1.05725252  1.03816552  1.02471852  1.01555784  1.0095185\n",
      "  1.00566251  1.00327647  1.00184461  1.00101076  1.00053924  1.00028019\n",
      "  1.00014185  1.00006999  1.00003367  1.00001579  1.00000723  1.00000323\n",
      "  1.00000141]\n"
     ]
    }
   ],
   "source": [
    "def FDT_BDS(u,x):\n",
    "    t = 0.0\n",
    "    u_new = np.ones_like(u)\n",
    "\n",
    "    while (t < t_end):\n",
    "        #Forward time and backward space differention\n",
    "        u_new[1:] = u[1:] - v*(dt/dx)*(u[1:]-u[:-1])\n",
    "\n",
    "        #Boundary conditions\n",
    "        u_new[0] = u_new[-1]\n",
    "        u_new[1] = u_new[-2]\n",
    "\n",
    "        u = u_new\n",
    "\n",
    "        #Saving u_new - TO DO\n",
    "        #Adding timestep\n",
    "        t += dt\n",
    "    return u\n",
    "\n",
    "solution = FDT_BDS(u,x)\n",
    "print(solution)"
   ]
  },
  {
   "cell_type": "markdown",
   "metadata": {},
   "source": [
    "## FDT - Dopředná časová diference a FDS - Dopředná prostorová diference - DOWNWIND"
   ]
  },
  {
   "cell_type": "code",
   "execution_count": 3,
   "metadata": {
    "collapsed": false
   },
   "outputs": [
    {
     "name": "stdout",
     "output_type": "stream",
     "text": [
      "[  1.00000000e+00   1.64658805e+17  -2.00811306e+18   2.18836453e+18\n",
      "  -2.26761045e+18   2.22929532e+18  -2.07420119e+18   1.82153893e+18\n",
      "  -1.50530069e+18   1.16671814e+18  -8.45139829e+17   5.70237449e+17\n",
      "  -3.57855138e+17   2.10303361e+17  -1.20209512e+17   7.59573268e+16\n",
      "  -6.66665634e+16   8.54028369e+16  -1.30306638e+17   2.04046016e+17\n",
      "  -3.12205796e+17   4.61064671e+17  -6.54988686e+17   8.93629678e+17\n",
      "  -1.16931152e+18   1.46528531e+18  -1.75571533e+18   2.00811211e+18\n",
      "  -2.18836207e+18   2.26760423e+18  -2.22928003e+18   2.07416459e+18\n",
      "  -1.82145370e+18   1.50510769e+18  -1.16629341e+18   8.44232052e+17\n",
      "  -5.68354240e+17   3.54065448e+17  -2.02910592e+17   1.06239240e+17\n",
      "  -5.04023762e+16   2.14521761e+16  -8.09071688e+15   2.66193734e+15\n",
      "  -7.48500464e+14   1.74897206e+14  -3.26057665e+13   4.54733988e+12\n",
      "  -4.21780716e+11   1.95173477e+10   1.00000000e+00   1.00000000e+00\n",
      "   1.00000000e+00   1.00000000e+00   1.00000000e+00   1.00000000e+00\n",
      "   1.00000000e+00   1.00000000e+00   1.00000000e+00   1.00000000e+00\n",
      "   1.00000000e+00   1.00000000e+00   1.00000000e+00   1.00000000e+00\n",
      "   1.00000000e+00   1.00000000e+00   1.00000000e+00   1.00000000e+00\n",
      "   1.00000000e+00   1.00000000e+00   1.00000000e+00   1.00000000e+00\n",
      "   1.00000000e+00   1.00000000e+00   1.00000000e+00   1.00000000e+00\n",
      "   1.00000000e+00   1.00000000e+00   1.00000000e+00   1.00000000e+00\n",
      "   1.00000000e+00   1.00000000e+00   1.00000000e+00   1.00000000e+00\n",
      "   1.00000000e+00   1.00000000e+00   1.00000000e+00   1.00000000e+00\n",
      "   1.00000000e+00   1.00000000e+00   1.00000000e+00   1.00000000e+00\n",
      "   1.00000000e+00   1.00000000e+00   1.00000000e+00   1.00000000e+00\n",
      "   1.00000000e+00   1.00000000e+00   1.00000000e+00   1.00000000e+00]\n"
     ]
    }
   ],
   "source": [
    "def FDT_FDS(u,x):\n",
    "    t = 0.0\n",
    "    u_new = np.ones_like(u)\n",
    "\n",
    "    while (t < t_end):\n",
    "        #Boundary conditions\n",
    "        u_new[0] = u_new[-1]\n",
    "        u_new[1] = u_new[-2]\n",
    "        \n",
    "        #Forward time and forward space differention\n",
    "        u_new[:-1] = u[:-1] - v*(dt/dx)*(u[1:]-u[:-1])\n",
    "        u = u_new\n",
    "        #Saving u_new - TO DO\n",
    "        #Adding timestep\n",
    "        t += dt\n",
    "    return u\n",
    "\n",
    "solution = FDT_FDS(u,x)\n",
    "print(solution)"
   ]
  },
  {
   "cell_type": "code",
   "execution_count": null,
   "metadata": {
    "collapsed": true
   },
   "outputs": [],
   "source": []
  }
 ],
 "metadata": {
  "kernelspec": {
   "display_name": "Python 3",
   "language": "python",
   "name": "python3"
  },
  "language_info": {
   "codemirror_mode": {
    "name": "ipython",
    "version": 3
   },
   "file_extension": ".py",
   "mimetype": "text/x-python",
   "name": "python",
   "nbconvert_exporter": "python",
   "pygments_lexer": "ipython3",
   "version": "3.5.1"
  }
 },
 "nbformat": 4,
 "nbformat_minor": 0
}
