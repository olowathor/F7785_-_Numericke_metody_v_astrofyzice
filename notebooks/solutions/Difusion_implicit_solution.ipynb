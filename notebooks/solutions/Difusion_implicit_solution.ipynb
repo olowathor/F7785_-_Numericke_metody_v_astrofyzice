{
 "cells": [
  {
   "cell_type": "markdown",
   "metadata": {},
   "source": [
    "# Implicit Diffusion"
   ]
  },
  {
   "cell_type": "code",
   "execution_count": 22,
   "metadata": {
    "collapsed": true
   },
   "outputs": [],
   "source": [
    "# Import libraries\n",
    "%matplotlib inline\n",
    "from __future__ import division\n",
    "import scipy.linalg as sp \n",
    "from scipy.sparse.linalg import spsolve\n",
    "from scipy.sparse import diags\n",
    "from scipy.sparse import csc_matrix\n",
    "import numpy as np\n",
    "import matplotlib.pylab as plt\n",
    "import timeit"
   ]
  },
  {
   "cell_type": "markdown",
   "metadata": {},
   "source": [
    "## Initial values"
   ]
  },
  {
   "cell_type": "code",
   "execution_count": 23,
   "metadata": {
    "collapsed": true
   },
   "outputs": [],
   "source": [
    "# Time-step, size and other inputs\n",
    "dt = 0.01\n",
    "N = 100\n",
    "\n",
    "# Advection speed\n",
    "v = 0.2\n",
    "\n",
    "# Time of calculation\n",
    "t_end = 2.25\n",
    "\n",
    "#Spatial coordinate discretisation\n",
    "x,dx = np.linspace(0,2,N,retstep=True)\n",
    "\n",
    "# Pamameter beta\n",
    "beta = 1.0/4.0*v*dt/dx"
   ]
  },
  {
   "cell_type": "markdown",
   "metadata": {},
   "source": [
    "## Profiles"
   ]
  },
  {
   "cell_type": "code",
   "execution_count": 24,
   "metadata": {
    "collapsed": false
   },
   "outputs": [],
   "source": [
    "## Gaussian profile\n",
    "def gaussian(x):\n",
    "    mu = 1.0\n",
    "    sig2 = 0.1\n",
    "    return 1.0/(np.sqrt(2.*np.pi*sig2))*np.exp(-np.power(x - mu, 2.)/(2.0*sig2))\n",
    "\n",
    "## Box profile\n",
    "def box_prof(x):\n",
    "    #Really slow masking\n",
    "    u = np.ones_like(x)\n",
    "    x_mask = np.where([(el > 0.5) and (el < 1) for el in x])\n",
    "    u[x_mask] = 2.0\n",
    "    return u\n",
    "\n",
    "def box_profile(x):\n",
    "    #Much better masking\n",
    "    u = np.ones_like(x)\n",
    "    ubound = np.where(x >= 0.5)\n",
    "    lbound = np.where(x <= 1)\n",
    "    u[np.intersect1d(lbound,ubound)] = 2.0\n",
    "    \n",
    "    return u\n",
    "\n",
    "#%timeit box_prof(x)\n",
    "#%timeit box_profile(x)"
   ]
  },
  {
   "cell_type": "code",
   "execution_count": 27,
   "metadata": {
    "collapsed": false
   },
   "outputs": [
    {
     "data": {
      "text/plain": [
       "[<matplotlib.lines.Line2D at 0x7f110dd0a4e0>]"
      ]
     },
     "execution_count": 27,
     "metadata": {},
     "output_type": "execute_result"
    },
    {
     "data": {
      "image/png": "[encoded data removed]",
      "text/plain": [
       "<matplotlib.figure.Figure at 0x7f110de6d3c8>"
      ]
     },
     "metadata": {},
     "output_type": "display_data"
    }
   ],
   "source": [
    "## Matrix initiation\n",
    "matrix = csc_matrix(diags([-beta, 1, beta], [-1, 0, 1], shape=(N-2, N-2)).toarray())\n",
    "\n",
    "## Initial gaussian and box profile\n",
    "u1 = gaussian(x)\n",
    "u2 = box_profile(x)\n",
    "\n",
    "## Right sides\n",
    "def R_solutions(u,N):\n",
    "\n",
    "    R = np.empty(N-2)\n",
    "    R[0] = u[1]-beta*(u[2]-u[0])+beta*u[0]\n",
    "    R[N-3] = u[N-2]-beta*(u[N-1]-u[N-3])-beta*u[N-1]\n",
    "\n",
    "    R[1:N-3] = u[2:N-2]-beta*(u[3:N-1]-u[1:N-3])\n",
    "   \n",
    "    return R\n",
    "\n",
    "## Running profile\n",
    "def run(t_end,N):\n",
    "    t = 0.0\n",
    "    u = u1.copy()\n",
    "    while t < t_end:\n",
    "        ##rs = R_solutions(u,N)\n",
    "        u[1:N-1] = spsolve(matrix,R_solutions(u,N))\n",
    "        \n",
    "        # Boundary condition\n",
    "        u[N-1] = u[N-2] # Free outflow\n",
    "        u[0] = 0.       # Zero inflow\n",
    "\n",
    "        t += dt\n",
    "    return u,t\n",
    "\n",
    "\n",
    "u_res,t = run(t_end,N)\n",
    "\n",
    "# Srovnani numerickeho a exaktniho reseni\n",
    "plt.plot(x,u1,'r--')\n",
    "plt.plot(x,u_res,'gx')\n",
    "plt.plot(x,gaussian(x-v*t_end),'b+')\n",
    "plt.plot(x,box_prof(x-v*t_end)-1,'c-')\n",
    "plt.plot(x,u2-1,'y-')"
   ]
  },
  {
   "cell_type": "code",
   "execution_count": null,
   "metadata": {
    "collapsed": true
   },
   "outputs": [],
   "source": []
  }
 ],
 "metadata": {
  "kernelspec": {
   "display_name": "Python 3",
   "language": "python",
   "name": "python3"
  },
  "language_info": {
   "codemirror_mode": {
    "name": "ipython",
    "version": 3
   },
   "file_extension": ".py",
   "mimetype": "text/x-python",
   "name": "python",
   "nbconvert_exporter": "python",
   "pygments_lexer": "ipython3",
   "version": "3.5.1"
  }
 },
 "nbformat": 4,
 "nbformat_minor": 0
}
