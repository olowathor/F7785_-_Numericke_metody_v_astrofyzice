{
 "cells": [
  {
   "cell_type": "code",
   "execution_count": 1,
   "metadata": {
    "collapsed": true
   },
   "outputs": [],
   "source": [
    "# Import libraries\n",
    "%matplotlib inline\n",
    "from __future__ import division\n",
    "import scipy.linalg as sp \n",
    "from scipy.sparse.linalg import spsolve\n",
    "from scipy.sparse import diags\n",
    "from scipy.sparse import csc_matrix\n",
    "import numpy as np\n",
    "import matplotlib.pylab as plt\n",
    "import timeit"
   ]
  },
  {
   "cell_type": "markdown",
   "metadata": {},
   "source": [
    "## Initial values and constants"
   ]
  },
  {
   "cell_type": "code",
   "execution_count": 10,
   "metadata": {
    "collapsed": true
   },
   "outputs": [],
   "source": [
    "#Advection speed\n",
    "v = 0.2\n",
    "\n",
    "# Diffusion coefficient\n",
    "D = 0.7\n",
    "\n",
    "#Time step and Terminal time\n",
    "dt = 0.01\n",
    "t_end = 2.5\n",
    "\n",
    "#Number of iterations\n",
    "N = 100\n",
    "\n",
    "#Spatial coordinate discretisation\n",
    "x,dx = np.linspace(0,2,N,retstep=True)"
   ]
  },
  {
   "cell_type": "markdown",
   "metadata": {},
   "source": [
    "## Profiles"
   ]
  },
  {
   "cell_type": "code",
   "execution_count": 11,
   "metadata": {
    "collapsed": true
   },
   "outputs": [],
   "source": [
    "## Gaussian profile\n",
    "def gaussian(x):\n",
    "    mu = 1.0\n",
    "    sig2 = 0.1\n",
    "    return 1.0/(np.sqrt(2.*np.pi*sig2))*np.exp(-np.power(x - mu, 2.)/(2.0*sig2))\n",
    "\n",
    "## Box profile\n",
    "def box_profile(x):\n",
    "    u = np.ones_like(x)\n",
    "    ubound = np.where(x >= 0.5)\n",
    "    lbound = np.where(x <= 1)\n",
    "    u[np.intersect1d(lbound,ubound)] = 2.0\n",
    "    \n",
    "    return u"
   ]
  },
  {
   "cell_type": "markdown",
   "metadata": {},
   "source": [
    "# Postup\n",
    "* $$\\frac{\\partial{u}}{\\partial{t}}-v\\frac{\\partial{u}}{\\partial{x}}=0$$\n",
    "* vytvořit startovací metodu - Lax-Wendorf, $\\dots$\n",
    "## Lax-Wendorf\n",
    "$$\n",
    "u_j^{n+1} = u_j^n-\\frac{1}{2}\\frac{v \\Delta t}{\\Delta x}\\left(u_{j+1}^n-u_{j-1}^n\\right)+\\frac{v\\Delta t}{\\Delta x}\\left(\\frac{v}{2\\Delta x}+\\frac{D}{\\Delta x}\\right)\\left(u_{j+1}^n-2u_j^n+u_{j-1}^n\\right) \n",
    "$$\n",
    "$$\n",
    "u_j^{n+1} = u_{j-1}\\left(\\frac{\\alpha}{2}+\\frac{\\alpha^2}{2\\Delta t}+\\alpha\\beta\\right)+u_j^n\\left(1-\\frac{\\alpha^2}{\\Delta t}-2\\alpha\\beta\\right)+u_{j+1}\\left(-\\frac{\\alpha}{2}+\\frac{\\alpha^2}{2\\Delta t}+\\alpha\\beta\\right)\n",
    "$$\n",
    "## Leap-frog\n",
    "* $$\\frac{\\partial{u}}{\\partial{t}}\\sim\\frac{u^{n+1}-u^{n-1}}{2\\Delta{t}}$$\n",
    "* $$\\frac{\\partial{u}}{\\partial{x}}\\sim\\frac{u_{j+1}-u_{j-1}}{2\\Delta{x}}$$\n",
    "* $$\\frac{\\partial{u}^2}{\\partial{t^2}}\\sim\\frac{u_{j+1}-2u_{j}+u_{j-1}}{(\\Delta{x})^2}$$\n",
    "* $$\\frac{\\partial{u}}{\\partial{t}}-v\\frac{\\partial{u}}{\\partial{x}}+D\\frac{\\partial{u}^2}{\\partial{x^2}}\\sim\\frac{u^{n+1}-u^{n-1}}{2\\Delta{t}}-v\\frac{u_{j+1}-u_{j-1}}{2\\Delta{x}}+D\\frac{u_{j+1}-2u_{j}+u_{j-1}}{(\\Delta{x})^2}$$\n"
   ]
  },
  {
   "cell_type": "markdown",
   "metadata": {},
   "source": [
    "## Initiation of vector u and profiles"
   ]
  },
  {
   "cell_type": "code",
   "execution_count": 13,
   "metadata": {
    "collapsed": false
   },
   "outputs": [],
   "source": [
    "alpha = v*dt/dx\n",
    "beta = D/dx"
   ]
  },
  {
   "cell_type": "markdown",
   "metadata": {},
   "source": [
    "## Lax-Wendorf method"
   ]
  },
  {
   "cell_type": "code",
   "execution_count": null,
   "metadata": {
    "collapsed": true
   },
   "outputs": [],
   "source": [
    "def lax_wen(x,dx,u,t_end,alpha,beta):\n",
    "    coeff_1 = (alpha/2)+(alpha**2)/(2*dt)+alpha*beta\n",
    "    coeff_2 = 1-((alpha**2)/dt)-2*alpha*beta\n",
    "    coeff_3 = (-alpha/2)+(alpha**2)/(2*dt)+alpha*beta\n",
    "    \n",
    "    \n",
    "    "
   ]
  },
  {
   "cell_type": "markdown",
   "metadata": {},
   "source": [
    "## Leap-frog"
   ]
  },
  {
   "cell_type": "code",
   "execution_count": null,
   "metadata": {
    "collapsed": true
   },
   "outputs": [],
   "source": []
  }
 ],
 "metadata": {
  "kernelspec": {
   "display_name": "Python 3",
   "language": "python",
   "name": "python3"
  },
  "language_info": {
   "codemirror_mode": {
    "name": "ipython",
    "version": 3
   },
   "file_extension": ".py",
   "mimetype": "text/x-python",
   "name": "python",
   "nbconvert_exporter": "python",
   "pygments_lexer": "ipython3",
   "version": "3.5.1"
  }
 },
 "nbformat": 4,
 "nbformat_minor": 0
}
