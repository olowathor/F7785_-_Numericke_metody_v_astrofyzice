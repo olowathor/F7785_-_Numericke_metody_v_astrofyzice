{
 "cells": [
  {
   "cell_type": "markdown",
   "metadata": {},
   "source": [
    "# Užití lichoběžníkového pravidla při integraci"
   ]
  },
  {
   "cell_type": "markdown",
   "metadata": {},
   "source": [
    "## Import knihoven"
   ]
  },
  {
   "cell_type": "code",
   "execution_count": 1,
   "metadata": {
    "collapsed": true
   },
   "outputs": [],
   "source": [
    "%matplotlib inline\n",
    "import numpy as np\n",
    "import scipy\n",
    "import matplotlib.pylab as plt"
   ]
  },
  {
   "cell_type": "markdown",
   "metadata": {},
   "source": [
    "## Funkce pro lichoběžníkové pravidlo"
   ]
  },
  {
   "cell_type": "code",
   "execution_count": 2,
   "metadata": {
    "collapsed": true
   },
   "outputs": [],
   "source": [
    "def comp_trapezoidal_rule(f, a, b, N=100):\n",
    "    \"\"\"Return the approximation of the integral \\int_a^b f(x) dx using\n",
    "    the trapezoidal rule with N subdivisions.\n",
    "    \"\"\"\n",
    "    s = f(a)\n",
    "    for i in range(1, N):\n",
    "        # grid i-point \n",
    "        x = a + i * (b-a) / float(N)\n",
    "        # Sum of the rectangle area\n",
    "        s = s + 2 * f(x)\n",
    "    s = s + f(b)\n",
    "    return s * (b-a) / N / 2.\n"
   ]
  },
  {
   "cell_type": "markdown",
   "metadata": {},
   "source": [
    "## Odhad poloměru planety"
   ]
  },
  {
   "cell_type": "code",
   "execution_count": 18,
   "metadata": {
    "collapsed": false
   },
   "outputs": [],
   "source": [
    "rho_0 = 18000\n",
    "L = 6500000\n",
    "M_Z = 5.972 * 10**24\n",
    "rho_z = 5520\n",
    "R_Z = ((3*M_Z)/(4*np.pi*rho_z))**(1.0/3.0)\n",
    "M_obs = 5.4 * M_Z\n",
    "R_Gl_odh = (5.4)**(1.0/3.0)*R_Z\n",
    "R_0 = 1\n",
    "\n",
    "def f(r):\n",
    "    return R_0*rho_0*np.exp(-r*L)*r**2\n",
    "\n",
    "def Planet_radius(R):\n",
    "    MAX_iter = 10000\n",
    "    start = 0\n",
    "    M_Gl = 1.1 * M_obs\n",
    "    \n",
    "    while(((M_Gl - M_obs) > 0) and (start <= MAX_iter)):\n",
    "        M_Gl = 4*np.pi*comp_trapezoidal_rule(f, 0, R, N=100)\n",
    "        d_M = M_Gl - M_obs\n",
    "        R += 10000\n",
    "        start += 1\n",
    "    print(\"Iterace:\", start-1, \"Rozdíl hmotností:\", d_M)\n",
    "    return (R - 10000)"
   ]
  },
  {
   "cell_type": "code",
   "execution_count": 19,
   "metadata": {
    "collapsed": false
   },
   "outputs": [
    {
     "name": "stdout",
     "output_type": "stream",
     "text": [
      "Iterace: 0 Rozdíl hmotností: -3.22488e+25\n",
      "11172798.26564721\n"
     ]
    }
   ],
   "source": [
    "print(Planet_radius(R_Gl_odh))"
   ]
  },
  {
   "cell_type": "code",
   "execution_count": null,
   "metadata": {
    "collapsed": true
   },
   "outputs": [],
   "source": []
  }
 ],
 "metadata": {
  "kernelspec": {
   "display_name": "Python 3",
   "language": "python",
   "name": "python3"
  },
  "language_info": {
   "codemirror_mode": {
    "name": "ipython",
    "version": 3
   },
   "file_extension": ".py",
   "mimetype": "text/x-python",
   "name": "python",
   "nbconvert_exporter": "python",
   "pygments_lexer": "ipython3",
   "version": "3.5.1"
  }
 },
 "nbformat": 4,
 "nbformat_minor": 0
}
