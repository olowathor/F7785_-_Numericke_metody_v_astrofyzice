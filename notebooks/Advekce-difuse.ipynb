{
 "cells": [
  {
   "cell_type": "code",
   "execution_count": 1,
   "metadata": {
    "collapsed": true
   },
   "outputs": [],
   "source": [
    "%matplotlib inline"
   ]
  },
  {
   "cell_type": "markdown",
   "metadata": {},
   "source": [
    "**Problém 1**: Rovnice advekce-difůze \n",
    "\n",
    "$$\n",
    "\\frac{\\partial u}{\\partial t} + v \\frac{\\partial u}{\\partial x} = D\\frac{\\partial^2 u}{\\partial t^2}\n",
    "$$\n",
    "\n",
    "\n",
    "najděte numerické řešení v intervalu $x = [1, 2]$ a s počatečními podmínkami $u = 1$ pro $x \\leq 1.5$ a $u = 0$ pro $x > 1.5$. Vyzkoušejte různé hodnoty konstantni rychlosti advekce $v$ a koeficientu difůze.\n",
    "\n",
    "Nejprve naimportujeme potřebné knihovny pro práci s poli a kreslení"
   ]
  },
  {
   "cell_type": "code",
   "execution_count": 2,
   "metadata": {
    "collapsed": true
   },
   "outputs": [],
   "source": [
    "from __future__ import division\n",
    "\n",
    "import numpy as np\n",
    "from matplotlib import pyplot as plt"
   ]
  },
  {
   "cell_type": "markdown",
   "metadata": {},
   "source": [
    "Dále je potřeba určit počáteční podmínky našeho problému, správněji řečeno profil funkce $u(x,t=0)$. Pro naše účely si vystačíme s jednoduchým profilem ve tvaru obdelníkového pulsu a schodu."
   ]
  },
  {
   "cell_type": "code",
   "execution_count": 3,
   "metadata": {
    "collapsed": false
   },
   "outputs": [],
   "source": [
    "def box_profile(x):\n",
    "    \n",
    "    u = np.ones_like(x)\n",
    "    ubound = np.where(x >= 0.5)\n",
    "    lbound = np.where(x <= 1)\n",
    "    u[np.intersect1d(lbound,ubound)] = 2.0\n",
    "    \n",
    "    return u\n",
    "\n",
    "def step_profile(x):\n",
    "    u = np.ones_like(x); u[x > 1.5] = 0\n",
    "    return u\n",
    "\n",
    "## Gaussian profile\n",
    "def gaussian(x):\n",
    "    mu = 1.0\n",
    "    sig2 = 0.1\n",
    "    return 1.0/(np.sqrt(2.*np.pi*sig2))*np.exp(-np.power(x - mu, 2.)/(2.0*sig2))"
   ]
  },
  {
   "cell_type": "markdown",
   "metadata": {},
   "source": [
    "Abychom se ujistili, že jsou naše počáteční podmínky správně, zobrazíme si tvar obou dvou profilů s využitím knihovny matplotlib"
   ]
  },
  {
   "cell_type": "code",
   "execution_count": 4,
   "metadata": {
    "collapsed": false
   },
   "outputs": [
    {
     "data": {
      "text/plain": [
       "[<matplotlib.lines.Line2D at 0x7feb4280dfd0>]"
      ]
     },
     "execution_count": 4,
     "metadata": {},
     "output_type": "execute_result"
    },
    {
     "data": {
      "image/png": "[encoded data removed]",
      "text/plain": [
       "<matplotlib.figure.Figure at 0x7feb645e4a90>"
      ]
     },
     "metadata": {},
     "output_type": "display_data"
    }
   ],
   "source": [
    "x = np.linspace(0, 2, 100)\n",
    "u1 = box_profile(x)\n",
    "u2 = step_profile(x)\n",
    "\n",
    "plt.figure(1)\n",
    "\n",
    "plt.subplot(121)\n",
    "plt.title('Box profile')\n",
    "plt.ylim((0.5,2.5))\n",
    "plt.xlim((0,2))\n",
    "plt.plot(x, u1, 'b-')\n",
    "\n",
    "plt.subplot(122)\n",
    "plt.title('Step profile')\n",
    "plt.ylim(0.5,2.5)\n",
    "plt.xlim((0,2))\n",
    "plt.plot(x,u2,'r-')"
   ]
  },
  {
   "cell_type": "markdown",
   "metadata": {},
   "source": [
    "Pro zobrazení finálního výsledku si připravíme funkci, která vykreslí numerické řešení..."
   ]
  },
  {
   "cell_type": "code",
   "execution_count": 5,
   "metadata": {
    "collapsed": true
   },
   "outputs": [],
   "source": [
    "def plot_result(x,u,title=' ',xmin=0.0,xmax=2.0,ymin=0.5,ymax=2.5):\n",
    "    ## Plotting of the result      \n",
    "    plt.title(title)\n",
    "    plt.xlabel(\"x\")\n",
    "    plt.ylabel(\"u\")\n",
    "    plt.ylim((ymin,ymax))\n",
    "    plt.xlim((xmin,xmax))\n",
    "    plt.plot(x, u)\n",
    "    plt.grid(True)"
   ]
  },
  {
   "cell_type": "markdown",
   "metadata": {
    "collapsed": true
   },
   "source": [
    "### Laxova-Friedrichsova metoda ###\n",
    "Jako první metodu pro řešení rovnice advekce-difůze, použijeme Laxovu metodu, viz kapitola () skript. Funkce bude mít jako vstupní parametry čas a rychlost advekce. Hodnotu parametrů rychlosti advekce $v$ zvolíme pro jednoduchost nulovou, bude se tedy jednat o difůzní problém, tomu také odpovídá velikost zvoleného časového kroku (viz. skriptum)."
   ]
  },
  {
   "cell_type": "code",
   "execution_count": 33,
   "metadata": {
    "collapsed": false
   },
   "outputs": [],
   "source": [
    "def lax_friedrichs_method(time = 1.0, velocity=0.3):\n",
    "    \n",
    "    number_of_points = 100\n",
    "    \n",
    "    D = 0.00001\n",
    "    v = velocity\n",
    "    t_end = time\n",
    "\n",
    "    x,dx = np.linspace(0., 2., number_of_points,retstep=True)\n",
    "\n",
    "    cdif = 0.4\n",
    "    ccfl = 0.4\n",
    "    diffusion_time = cdif*dx**2/(2.0*D)\n",
    "    advection_time = ccfl*dx/v\n",
    "    dt = min(diffusion_time,advection_time)\n",
    "    \n",
    "    u = gaussian(x)\n",
    "    \n",
    "    cas = 0.0\n",
    "    \n",
    "    \n",
    "    alpha = v*dt/dx\n",
    "    beta = D*dt/dx**2.0\n",
    "    \n",
    "    while cas < t_end:\n",
    "\n",
    "        u[1:-1] = u[:-2]*(0.5+alpha*0.5+beta)-u[1:-1]*2.0*beta+u[2:]*(0.5-0.5*alpha+beta)\n",
    "        u[0] = u[1]\n",
    "        u[number_of_points-1] = u[number_of_points-2]\n",
    "        cas = cas + dt\n",
    "        \n",
    "    return x,u\n"
   ]
  },
  {
   "cell_type": "markdown",
   "metadata": {},
   "source": [
    "Nyní nám již nic nebrání v otestování našeho numerického řešení. Spustíme funkci a vykreslíme vysledný průběh. Použijeme přitom také magický příkaz **%time**, který nám vypíše dobu výpočtu - položka *Wall time*. "
   ]
  },
  {
   "cell_type": "code",
   "execution_count": 34,
   "metadata": {
    "collapsed": false
   },
   "outputs": [
    {
     "name": "stdout",
     "output_type": "stream",
     "text": [
      "CPU times: user 0 ns, sys: 0 ns, total: 0 ns\n",
      "Wall time: 262 µs\n"
     ]
    },
    {
     "data": {
      "image/png": "[encoded data removed]",
      "text/plain": [
       "<matplotlib.figure.Figure at 0x7feb3ffb3fd0>"
      ]
     },
     "metadata": {},
     "output_type": "display_data"
    }
   ],
   "source": [
    "u_initial = gaussian(x)\n",
    "%time x,u = lax_friedrichs_method()\n",
    "plot_result(x,u,ymin=0.,ymax=1.4)\n",
    "plot_result(x,u_initial,ymin=0.,ymax=1.4)"
   ]
  },
  {
   "cell_type": "markdown",
   "metadata": {},
   "source": [
    "Jak je vidno, metoda pracuje relativně dobře pokud se jedná o problém lineární advekce, nicméně přídaním difůzního členu se situace radikálně změní. \n",
    "\n",
    "### Aktivity\n",
    "\n",
    "* Vyzkoušejte si ruzné hodnoty koeficientu difůze $D$ a analyzujte změnu chování.\n",
    "\n",
    "#### Poznámka\n",
    "Při konstrukci kódu jsme v rámci urychlení využili *slice* indexování (více viz. [Slicing](http://docs.scipy.org/doc/numpy-1.10.0/reference/arrays.indexing.html)). Výhodou je, že v této formě lze použít vektorový přístup při výpočtu, což významně zefektivní výpočet. V budoucnu tedy použijeme vždy vektorové formy s pomocí již zmíněného *slice* indexování\n",
    "\n",
    "Mnohem vhodnější metodou pro problém *difůze-advekce* je konzervativní schéma *Lax-Wendorf*. Modifikujeme tedy předchozí kód pro tuto metodu"
   ]
  },
  {
   "cell_type": "code",
   "execution_count": 39,
   "metadata": {
    "collapsed": true
   },
   "outputs": [],
   "source": [
    "def lax_wendorf_method(time = 1.0, velocity=0.3):\n",
    "    \n",
    "    number_of_points = 100\n",
    "    \n",
    "    D = 0.1\n",
    "    v = velocity\n",
    "    t_end = time\n",
    "\n",
    "    x,dx = np.linspace(0., 2., number_of_points,retstep=True)\n",
    "    \n",
    "    cdif = 0.4\n",
    "    ccfl = 0.4\n",
    "    diffusion_time = cdif*dx**2/(2.0*D)\n",
    "    advection_time = ccfl*dx/v\n",
    "    dt = min(diffusion_time,advection_time)\n",
    "\n",
    "    u = gaussian(x)\n",
    "    \n",
    "    cas = 0.0\n",
    "    \n",
    "    alpha = v*dt/dx\n",
    "    beta = D/dx\n",
    "    \n",
    "    while cas < t_end:\n",
    "\n",
    "        u[1:-1] = u[:-2]*(0.5*alpha+alpha**2.0/(2.0*dt)+alpha*beta)+u[1:-1]*(1.0-alpha**2.0/dt-2.0*beta*alpha)+u[2:]*(-0.5*alpha+alpha**2.0/(2.0*dt)+alpha*beta)\n",
    "        u[0] = u[1]\n",
    "        u[number_of_points-1] = u[number_of_points-2]\n",
    "        cas = cas + dt\n",
    "        \n",
    "    return x,u"
   ]
  },
  {
   "cell_type": "markdown",
   "metadata": {},
   "source": [
    "A porovnáme dobu výpočtu"
   ]
  },
  {
   "cell_type": "code",
   "execution_count": 40,
   "metadata": {
    "collapsed": false
   },
   "outputs": [
    {
     "name": "stdout",
     "output_type": "stream",
     "text": [
      "CPU times: user 8 ms, sys: 0 ns, total: 8 ms\n",
      "Wall time: 5.82 ms\n"
     ]
    },
    {
     "data": {
      "text/plain": [
       "[<matplotlib.lines.Line2D at 0x7feb4255e910>]"
      ]
     },
     "execution_count": 40,
     "metadata": {},
     "output_type": "execute_result"
    },
    {
     "data": {
      "image/png": "[encoded data removed]",
      "text/plain": [
       "<matplotlib.figure.Figure at 0x7feb400b70d0>"
      ]
     },
     "metadata": {},
     "output_type": "display_data"
    }
   ],
   "source": [
    "%time x,u = lax_wendorf_method()\n",
    "\n",
    "plt.plot(x,u,'b.')\n",
    "plt.plot(x,gaussian(x),'r-')"
   ]
  },
  {
   "cell_type": "markdown",
   "metadata": {
    "collapsed": true
   },
   "source": [
    "Vidíme, že doba výpočtu senám zkrátila a to zhruba 17-násobně."
   ]
  },
  {
   "cell_type": "markdown",
   "metadata": {},
   "source": [
    "IPython však umí mnohem více, určitě by bylo vhodné mít možnost měnit hodnoty řídích parametrů problému a neomezovat se tak pouze na pevně zvolené. Lze tím ilustrovat vliv řídících parametru na řešení problému. Typicky zvětšováním hodnoty difůze se stane proces difůze dominantním, analogicky pak zvětšování hodnoty rychlosti zase proces advekce. To má ovšem značný vliv na stabilitu numerického řešení, jak si ukážeme v další části."
   ]
  },
  {
   "cell_type": "code",
   "execution_count": 20,
   "metadata": {
    "collapsed": false,
    "scrolled": true
   },
   "outputs": [
    {
     "data": {
      "image/png": "[encoded data removed]",
      "text/plain": [
       "<matplotlib.figure.Figure at 0x7fb98fb7df90>"
      ]
     },
     "metadata": {},
     "output_type": "display_data"
    }
   ],
   "source": [
    "from ipywidgets import interact\n",
    "\n",
    "@interact(t_end=(0, 1.0), velocity=(0.0, 1.0), D = (0.01,0.5))\n",
    "def lax_method(t_end=0.1,velocity=0.0,D=0.3):\n",
    "    D = D\n",
    "    v = velocity\n",
    "    t_end = t_end\n",
    "    \n",
    "    number_of_points = 104\n",
    "    dx = 2./(number_of_points-1)\n",
    "    \n",
    "    x = np.linspace(0, 2, number_of_points)\n",
    "    dt = 0.2*dx**2.0/D\n",
    "    \n",
    "    u = box_profile(x)\n",
    "    \n",
    "    time = 0.0\n",
    "    \n",
    "    while time < t_end:\n",
    "        uu = np.copy(u)\n",
    "\n",
    "        u[1:number_of_points-2] =uu[1:number_of_points-2]-\\\n",
    "        v*dt/dx*(uu[1:number_of_points-2]-uu[:number_of_points-3])+D*dt/(dx*dx)*\\\n",
    "        (uu[2:number_of_points-1]-2*uu[1:number_of_points-2]+uu[:number_of_points-3])\n",
    "\n",
    "        u[0] = u[1]\n",
    "        u[number_of_points-1] = u[number_of_points-2]\n",
    "\n",
    "        time = time + dt\n",
    "    plot_result(x,u)\n",
    "    return"
   ]
  },
  {
   "cell_type": "markdown",
   "metadata": {
    "collapsed": true
   },
   "source": [
    "### Crank-Nicholsonova metoda ###\n",
    "Předchozí metoda řešení rovnice advekce-difůze použila explicitní schéma, můžeme však použít (a mnohdy je to i velmi vhodne) implicitní schéma. Nejznámějším příkladem takého schématu je *Crankovo-Nicholsonovo* schéma"
   ]
  },
  {
   "cell_type": "code",
   "execution_count": 21,
   "metadata": {
    "collapsed": true
   },
   "outputs": [],
   "source": [
    "import scipy.linalg as sp\n"
   ]
  },
  {
   "cell_type": "code",
   "execution_count": 22,
   "metadata": {
    "collapsed": false
   },
   "outputs": [],
   "source": [
    "#@interact(t_end=(0.0,0.2),velocity=(0.01,1.2),D=(0.0,0.3))\n",
    "def crank_nicholson(t_end,velocity,D):\n",
    "    \n",
    "    #Inicializace poli\n",
    "    number_of_points = 100\n",
    "    u = np.empty(number_of_points+2)\n",
    "    x = np.linspace(1,2,number_of_points+2)\n",
    "    u = np.ones_like(x); u[x > 1.5] = 0\n",
    "\n",
    "    # Prostorovy a casovy krok\n",
    "    dx = x[1]-x[0]\n",
    "    D = D\n",
    "    \n",
    "    # Parametry problemu \n",
    "    # v ... rychlost je kladna, zaporne znamenko vznika prechodem na druhou stranu\n",
    "    \n",
    "    v = -velocity\n",
    "    dt = 0.005\n",
    "    t_end = t_end\n",
    "\n",
    "    main = np.empty(number_of_points)\n",
    "    lower = np.empty(number_of_points -1)\n",
    "    upper = np.empty(number_of_points -1)\n",
    " \n",
    "    right_side = np.empty(number_of_points)\n",
    "\n",
    "    matrix = np.zeros((number_of_points, number_of_points))\n",
    "\n",
    "    # Koefecienty pro jednotlive cleny pravych stran\n",
    "    sigma = D*dt/(2.0*dx*dx)\n",
    "    rho = v*dt/(4.0*dx)\n",
    "\n",
    "    main[:] = (1.0+2.0*sigma)\n",
    "    upper[:] = -(sigma+rho)\n",
    "    lower[:] = (-sigma+rho)\n",
    "\n",
    "    # Boundary condition\n",
    "    main[0] = (1.0+sigma+rho)\n",
    "    main[number_of_points-1] = (1.0+sigma-rho)\n",
    "\n",
    "    for i in range(number_of_points):\n",
    "        matrix[i,i] = main[i]\n",
    "    \n",
    "    for i in range(number_of_points-1):\n",
    "        matrix[i+1,i] = lower[i]\n",
    "        matrix[i,i+1] = upper[i]\n",
    "\n",
    "    cas = 0.0\n",
    "\n",
    "    # Hlavni cyklus\n",
    "    while cas < t_end:\n",
    "        right_side[1:number_of_points] = u[1:number_of_points]*(1.0-2.0*sigma)+u[2:number_of_points+1]*(sigma+rho)+\\\n",
    "        u[0:number_of_points-1]*(sigma-rho)\n",
    "\n",
    "\n",
    "        # boundary condition \n",
    "        right_side[0] = u[0]*(1.0-sigma-rho)+(sigma+rho)*u[1]\n",
    "        right_side[number_of_points-1] = u[number_of_points-2]*(sigma-rho)+(1.0-sigma+rho)*u[number_of_points-1]\n",
    "    \n",
    "        solution = sp.solve(matrix,right_side)\n",
    "        u[1:number_of_points+1]=solution\n",
    "        cas = cas + dt\n",
    "        \n",
    "    #plot_result(x,u,title='Crank-Nicholson',xmin=1.0,xmax=2.0,ymin=0,ymax=1.2)\n",
    "    return x,u"
   ]
  },
  {
   "cell_type": "code",
   "execution_count": 23,
   "metadata": {
    "collapsed": false
   },
   "outputs": [
    {
     "name": "stdout",
     "output_type": "stream",
     "text": [
      "CPU times: user 12 ms, sys: 20 ms, total: 32 ms\n",
      "Wall time: 11.9 ms\n"
     ]
    }
   ],
   "source": [
    "%time x,u = crank_nicholson(t_end=0.1, velocity=0.0, D = 0.3)"
   ]
  },
  {
   "cell_type": "code",
   "execution_count": null,
   "metadata": {
    "collapsed": true
   },
   "outputs": [],
   "source": []
  },
  {
   "cell_type": "code",
   "execution_count": null,
   "metadata": {
    "collapsed": true
   },
   "outputs": [],
   "source": []
  }
 ],
 "metadata": {
  "kernelspec": {
   "display_name": "Python 3",
   "language": "python",
   "name": "python3"
  },
  "language_info": {
   "codemirror_mode": {
    "name": "ipython",
    "version": 3
   },
   "file_extension": ".py",
   "mimetype": "text/x-python",
   "name": "python",
   "nbconvert_exporter": "python",
   "pygments_lexer": "ipython3",
   "version": "3.5.1"
  }
 },
 "nbformat": 4,
 "nbformat_minor": 0
}
