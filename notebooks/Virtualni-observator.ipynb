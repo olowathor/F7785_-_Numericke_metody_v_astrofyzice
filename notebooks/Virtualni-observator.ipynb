{
 "cells": [
  {
   "cell_type": "markdown",
   "metadata": {},
   "source": [
    "# Virtuální observatoř"
   ]
  },
  {
   "cell_type": "markdown",
   "metadata": {},
   "source": [
    "Asi nejnároznější přirovnání, které nejlépe vystihuje koncept virtuální observatoře je *Internet pro astronomy*. Hlavním zdrojem pro poznávání Vesmíru je především jeho pozorování. Od prvních průkopníků astronomie, kteří dlouhé noci pozorovali slabé objekty vzdáleného Vesmíru okem přiloženým k okuláru, neuběhlo sice zase tolik času, ale technologie, kterou dnes používáme, ať už observační (od lidského oka po obří teleskopy), záznamová (papír, fotografické desky, fotonásobiče, CCD) či ta, kterou používáme pro analýzu dat (tužka a pravítko, nebo superpočítač), došla zrychleného vývoje. Spolu s ním se také, až dramaticky, zrychlil i přenos informace. A právě zde nachází uplatnění Virtuální observatoř."
   ]
  },
  {
   "cell_type": "markdown",
   "metadata": {},
   "source": [
    "<!-- https://fox.ncac.torun.pl/camkweb/grafika/votoolsworkshop.png -->\n",
    "![Náhled pracovní plochy s nástroji VO](../images/votoolsworkshop.png)"
   ]
  },
  {
   "cell_type": "markdown",
   "metadata": {},
   "source": [
    "Představte si, že chcete získat pozorování vámi zkoumaného objektu z různých, ideálně všech dostupných, zdrojů. Jenže každá observatoř používá jiné technické vybavení i konvence týkající se struktůry uložení dat. Proto vznikla **I**nternational **V**irtual **O**bservatory **A**lliance [IVOA](http://www.ivoa.net/), která zaštiťuje její další rozvoj, stejně jako World Wide Web Consortium (W3C) nepřímo definuje jakým směrem se ubírá vývoj samotného Internetu, na němž jsme, a nebojme si to přiznat, všichni tak trochu závislí."
   ]
  },
  {
   "cell_type": "markdown",
   "metadata": {},
   "source": [
    "Virtuální observatoř je tedy souhrn nástrojů a protokolů pro získávání a manipulaci s astronomickými daty unifikovaným způsobem bez nutnosti starat se o rozdílné implementace na úrovni jednotlivých observatoří, respektive datových archívů. Skrze virtuální observatoř je tedy možné získat informace o astronomických objektech z různorodých zdrojů. Můžete se dotazovat na souřadnice objektů na obloze podle jeho identifikátoru, či právě naopak, zjistit, které objekty se nacházejí v okolí daných souřadnic, tedy provést tak zvaný *cone search*. Pro daný objekt, nebo skupinů objektů definovanou různými parametry, můžete získat právě ty informace, které vás zajímají. Ať už samotné snímky z přehlídkových katalogů, světelné křivky či spektra. V neposlední řadě stojí za zmínku, že ve Virtuální observatoři můžete nalézt taky nepřeberné množství teoretických numerických modelů hvězdného vývoje."
   ]
  },
  {
   "cell_type": "markdown",
   "metadata": {},
   "source": [
    "K virtuální observatoři můžete přistupovat různými způsoby. Tím nejintuitivnějším je asi přímý přístup skrze webový prohlížeč, tak jak jste zvyklí z každodenního brouzdání po webu. Jen vás nesmí odradit formulářový vzhled jednotlivých stránek s množstvím polí pro zadávání omezujících parametrů pro vyhledávání. Další možností je použití specializovaných programů pro dílčí úkony, které však spolu mohou navzájem komunikovat a vzájemně si vyměňovat data. Ty se v rámci Virtuální observatoře přenášejí ve standardizovaném formátu, který je astronomům vlastní, tedy **F**lexible **I**mage **T**ransport **S**ystem (FITS), nebo speciálním formátu virtuální observatoře *VOTable*. Oba formáty umožňují oddělit takzvaná *metadata*, což je abstraktní popis skutečných dat nesoucí navíc informaci o fyzikálních jednotkách umožňující jejich přesnou interpretaci."
   ]
  },
  {
   "cell_type": "markdown",
   "metadata": {},
   "source": [
    "Poslední možností, které se budeme dále podrobněji věnovat, je přímý přístup ke službám Virtuální observatoře skrze aplikační rozhraní (API) programovacího jazyka Python. Respektive pomocí k tomuto účelů speciálně určenému balíčku `astroquery`, který je nepostradatelným pomocníkem již dobře známého balíku AstroPy."
   ]
  },
  {
   "cell_type": "markdown",
   "metadata": {},
   "source": [
    "## Vyhledávání souřadnic"
   ]
  },
  {
   "cell_type": "markdown",
   "metadata": {},
   "source": [
    "Začněme jednoduchým příkladem nalezení souřadnic známého blazaru *S5 0716+714*, tedy objektu typy BL Lac. K tomuto účelu se nám bude hodit modul s fyzikálními jednotkami, objekt pro souřadnice a nakonec objekt pro dotazování se astronomické databáze Simbad."
   ]
  },
  {
   "cell_type": "code",
   "execution_count": 2,
   "metadata": {
    "collapsed": true
   },
   "outputs": [],
   "source": [
    "from astropy import units as u\n",
    "from astropy.coordinates import SkyCoord\n",
    "from astroquery.simbad import Simbad"
   ]
  },
  {
   "cell_type": "code",
   "execution_count": 3,
   "metadata": {
    "collapsed": false
   },
   "outputs": [
    {
     "data": {
      "text/plain": [
       "<SkyCoord (ICRS): (ra, dec) in deg\n",
       "    (110.47270192, 71.34343428)>"
      ]
     },
     "execution_count": 3,
     "metadata": {},
     "output_type": "execute_result"
    }
   ],
   "source": [
    "bllac = SkyCoord.from_name(\"S5 0716+714\")\n",
    "bllac"
   ]
  },
  {
   "cell_type": "markdown",
   "metadata": {},
   "source": [
    "Teď když známe přesné souřadnice objektu na obloze, můžeme na něj namířit teleskop či družici, nebo si v přehledné tabulce vypsat objekty v jeho okolí."
   ]
  },
  {
   "cell_type": "code",
   "execution_count": 4,
   "metadata": {
    "collapsed": false
   },
   "outputs": [
    {
     "data": {
      "text/plain": [
       "<bound method Table.pprint of <Table masked=True length=23>\n",
       "        MAIN_ID               RA      ... COO_WAVELENGTH     COO_BIBCODE    \n",
       "                           \"h:m:s\"    ...                                   \n",
       "         object             str13     ...      str1             object      \n",
       "----------------------- ------------- ... -------------- -------------------\n",
       " 7C 071610.69+712601.00 07 21 53.4484 ...              R 2009A&A...493..317L\n",
       "          [BKB2006b] G3  07 21 56.852 ...                1998yCat.1252....0M\n",
       "          [BKB2006b] G1  07 21 51.418 ...                1998yCat.1252....0M\n",
       "          [BKB2006b] G2  07 21 42.111 ...                1998yCat.1252....0M\n",
       "2MASS J07215435+7119208   07 21 54.35 ...              I 2003yCat.2246....0C\n",
       "2MASS J07221260+7121146   07 22 12.61 ...              I 2003yCat.2246....0C\n",
       "2MASS J07214124+7119117   07 21 41.25 ...              I 2003yCat.2246....0C\n",
       "        TYC 4368-1025-1  07 21 33.374 ...              O 2000A&A...355L..27H\n",
       "2MASS J07215232+7118176   07 21 52.32 ...              I 2003yCat.2246....0C\n",
       "                    ...           ... ...            ...                 ...\n",
       "2MASS J07211606+7119551   07 21 16.06 ...              I 2003yCat.2246....0C\n",
       "2MASS J07221061+7117497   07 22 10.62 ...              I 2003yCat.2246....0C\n",
       "2MASS J07212077+7118480   07 21 20.78 ...              I 2003yCat.2246....0C\n",
       "2MASS J07221803+7123344   07 22 18.03 ...              I 2003yCat.2246....0C\n",
       "2MASS J07222820+7117374   07 22 28.20 ...              I 2003yCat.2246....0C\n",
       "            [NMR2005] c   07 22 36.39 ...                2005AJ....130.1466N\n",
       "         TYC 4368-870-1 07 22 36.4392 ...                1998A&A...335L..65H\n",
       "2MASS J07223155+7117499   07 22 31.56 ...              I 2003yCat.2246....0C\n",
       "  1RXS J072247.8+711821  07 22 47.801 ...                                   \n",
       "2MASS J07213751+7115518   07 21 37.51 ...              I 2003yCat.2246....0C>"
      ]
     },
     "execution_count": 4,
     "metadata": {},
     "output_type": "execute_result"
    }
   ],
   "source": [
    "table = Simbad.query_region(bllac, radius=5*u.arcmin)\n",
    "table.pprint"
   ]
  },
  {
   "cell_type": "markdown",
   "metadata": {
    "collapsed": false
   },
   "source": [
    "Co s touto tabulkou dál dělat ponechávám již jen na fantazii zvídavého čtenáře. Jako praktické cvičení si můžete například vykreslit polohy nalezených hvězd. Taková mapka s okolím se vám může hodit, když se rozhodnete pozorovat změny jeho jasnosti pro pořízení světelné křivky a následnou konstrukci fázového portrétu odrážející jeho chaotické chování."
   ]
  },
  {
   "cell_type": "markdown",
   "metadata": {},
   "source": [
    "## Atomické čáry"
   ]
  },
  {
   "cell_type": "markdown",
   "metadata": {},
   "source": [
    "Astrofyzikálně zajímavou aplikací využití Virtuální observatoře může být i získání seznamu atomárních čar daného prvku v zadaném rozsahu vlnových délek. Užitečnost této možnosti při studiu hvězdných spekter je snad zřejmá."
   ]
  },
  {
   "cell_type": "code",
   "execution_count": 5,
   "metadata": {
    "collapsed": true
   },
   "outputs": [],
   "source": [
    "from astroquery.atomic import AtomicLineList"
   ]
  },
  {
   "cell_type": "code",
   "execution_count": 6,
   "metadata": {
    "collapsed": false
   },
   "outputs": [
    {
     "data": {
      "text/html": [
       "&lt;Table length=3&gt;\n",
       "<table id=\"table140025532005848\">\n",
       "<thead><tr><th>LAMBDA VAC ANG</th><th>SPECTRUM</th><th>TT</th><th>TERM</th><th>J J</th><th>LEVEL ENERGY  CM 1</th></tr></thead>\n",
       "<thead><tr><th>float64</th><th>str3</th><th>str2</th><th>str3</th><th>str3</th><th>str22</th></tr></thead>\n",
       "<tr><td>4102.892</td><td>H I</td><td>E1</td><td>2-6</td><td>*-*</td><td>82259.11 -   106632.17</td></tr>\n",
       "<tr><td>4341.684</td><td>H I</td><td>E1</td><td>2-5</td><td>*-*</td><td>82259.11 -   105291.66</td></tr>\n",
       "<tr><td>4862.683</td><td>H I</td><td>E1</td><td>2-4</td><td>*-*</td><td>82259.11 -   102823.90</td></tr>\n",
       "</table>"
      ],
      "text/plain": [
       "<Table length=3>\n",
       "LAMBDA VAC ANG SPECTRUM  TT  TERM J J    LEVEL ENERGY  CM 1  \n",
       "   float64       str3   str2 str3 str3         str22         \n",
       "-------------- -------- ---- ---- ---- ----------------------\n",
       "      4102.892      H I   E1  2-6  *-* 82259.11 -   106632.17\n",
       "      4341.684      H I   E1  2-5  *-* 82259.11 -   105291.66\n",
       "      4862.683      H I   E1  2-4  *-* 82259.11 -   102823.90"
      ]
     },
     "execution_count": 6,
     "metadata": {},
     "output_type": "execute_result"
    }
   ],
   "source": [
    "AtomicLineList.query_object(wavelength_range=(400*u.nm, 600*u.nm),\n",
    "                            element_spectrum=\"H\")"
   ]
  },
  {
   "cell_type": "markdown",
   "metadata": {},
   "source": [
    "Komplexní příklad demonstrující širší možnosti využití Virtuální observatoře bude prezentován na praktickém cvičení. Nedočkavý jedinec se může opět ponořit do samostudia dokumentace, plné názorných úkázek, obou použitých balíčků.\n",
    "\n",
    "* [AstroPy](http://docs.astropy.org/en/stable/)\n",
    "* [AstroQuery](http://astroquery.readthedocs.org/en/latest/)"
   ]
  }
 ],
 "metadata": {
  "kernelspec": {
   "display_name": "Python 3",
   "language": "python",
   "name": "python3"
  },
  "language_info": {
   "codemirror_mode": {
    "name": "ipython",
    "version": 3
   },
   "file_extension": ".py",
   "mimetype": "text/x-python",
   "name": "python",
   "nbconvert_exporter": "python",
   "pygments_lexer": "ipython3",
   "version": "3.5.1"
  }
 },
 "nbformat": 4,
 "nbformat_minor": 0
}
