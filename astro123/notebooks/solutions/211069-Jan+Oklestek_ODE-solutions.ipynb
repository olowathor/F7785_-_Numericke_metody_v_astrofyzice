{
 "cells": [
  {
   "cell_type": "markdown",
   "metadata": {},
   "source": [
    "# ODE aktivity"
   ]
  },
  {
   "cell_type": "code",
   "execution_count": 1,
   "metadata": {
    "collapsed": false
   },
   "outputs": [],
   "source": [
    "from __future__ import division\n",
    "import numpy as np\n",
    "#%pylab inline\n",
    "import matplotlib.pyplot as plt\n",
    "# JSAnimation import available at https://github.com/jakevdp/JSAnimation\n",
    "#from JSAnimation import IPython_display\n",
    "from matplotlib import animation\n",
    "import timeit"
   ]
  },
  {
   "cell_type": "markdown",
   "metadata": {},
   "source": [
    "## Eulerův integrátor"
   ]
  },
  {
   "cell_type": "code",
   "execution_count": null,
   "metadata": {
    "collapsed": true
   },
   "outputs": [],
   "source": []
  },
  {
   "cell_type": "markdown",
   "metadata": {},
   "source": [
    "## Keplerův problém"
   ]
  },
  {
   "cell_type": "code",
   "execution_count": 37,
   "metadata": {
    "collapsed": false
   },
   "outputs": [
    {
     "name": "stdout",
     "output_type": "stream",
     "text": [
      "100 loops, best of 3: 3.07 ms per loop\n"
     ]
    }
   ],
   "source": [
    "# Původní Viktorův algoritmus\n",
    "# Modified (set of four first order differential equation) non-optimalized Euler \n",
    "\n",
    "# Set of initial declaration and parameters of the problem\n",
    "a = 1.0\n",
    "e = 0.01\n",
    "GM = 4.0*np.pi**2\n",
    "\n",
    "N = 400\n",
    "t0 = 0.0\n",
    "tend = 1.5\n",
    "t = np.linspace(t0,tend,N)\n",
    "h = (tend-t0)/N\n",
    "x = np.zeros((np.size(t),4))\n",
    "\n",
    "\n",
    "# Function calculate right sides of the ODEs\n",
    "def f(x_local):\n",
    "    radius = np.sqrt(x_local[0]**2+x_local[1]**2)\n",
    "    tau = -GM/radius**3\n",
    "    return np.array([h*x_local[2],h*x_local[3],h*tau*x_local[0],h*tau*x_local[1]])\n",
    "\n",
    "# Euler integration method\n",
    "def euler_vec(f, x , t, h):\n",
    "    x[0,0] = 0.0\n",
    "    x[0,1] = a*(1-e)\n",
    "    x[0,2]= -np.sqrt(GM/a*(1+e)/(1-e))\n",
    "    x[0,3] = 0.0\n",
    "    \n",
    "    x_buf = np.zeros(4)\n",
    "    \n",
    "    # Solution\n",
    "    for i in range(N-2):\n",
    "        x_buf[:] = x[i,:]\n",
    "        x[i+1,:] = x_buf[:] + f(x_buf[:])\n",
    "    return x\n",
    "\n",
    "%timeit euler_vec(f,x,t,h)\n",
    "solution = euler_vec(f,x,t,h)\n",
    "\n",
    "plt.title('Trajectory of planet X')\n",
    "plt.xlabel('X [1 AU]')\n",
    "plt.ylabel('Y [1 AU]')\n",
    "plt.plot(solution[:,0],solution[:,1],'k.')\n",
    "plt.show()"
   ]
  },
  {
   "cell_type": "markdown",
   "metadata": {},
   "source": [
    "### Aktivity\n",
    "\n",
    "* Vyzkoušejte si jaký vliv na přesnost řešení bude mít změna časového kroku $h$, tedy počtu bodů $N$. Vykreslete trajektorie planety pro různé hodnoty časového kroku do jednoho grafu. Algoritmus upravte tak, aby počet bodů byl stejný.\n",
    "* Algoritmus prezentovaný výše není dobře vektorizován, pokuste se jej zefektivnit a porovnejte časy výpočtu"
   ]
  },
  {
   "cell_type": "code",
   "execution_count": 59,
   "metadata": {
    "collapsed": false
   },
   "outputs": [
    {
     "name": "stdout",
     "output_type": "stream",
     "text": [
      "100 loops, best of 3: 4.09 ms per loop\n",
      "100 loops, best of 3: 3.48 ms per loop\n"
     ]
    }
   ],
   "source": [
    "# Pozměněný Viktorův algoritmus\n",
    "# Set of initial declaration and parameters of the problem\n",
    "a = 1.0\n",
    "e = 0.01\n",
    "GM = 4.0*np.pi**2\n",
    "\n",
    "N = 400\n",
    "t0 = 0.0\n",
    "tend = 1.5\n",
    "#t = np.linspace(t0,tend,N)\n",
    "h = (tend-t0)/N\n",
    "x0 = np.array([[0.0, a*(1-e), -np.sqrt(GM/a*(1+e)/(1-e)), 0.0]])\n",
    "\n",
    "# Function calculate right sides of the ODEs\n",
    "def f(x_local):\n",
    "    radius = np.sqrt(x_local[0]**2+x_local[1]**2)\n",
    "    tau = -GM/radius**3\n",
    "    return np.array([h*x_local[2], h*x_local[3], h*tau*x_local[0], h*tau*x_local[1]], float)\n",
    "\n",
    "# Euler integration method\n",
    "def euler_vec(f, x0, h): #t, h):\n",
    "    \n",
    "    # Solution\n",
    "    x_buf = x0[:]\n",
    "    for i in range(N-1):#N-2\n",
    "        x_buf += f(x_buf[0])\n",
    "        x0 = np.concatenate([x0, x_buf], axis=0)\n",
    "    return x0.transpose()\n",
    "\n",
    "#%timeit euler_vec(f,x0,h)\n",
    "#solution = euler_vec(f,x0,h)\n",
    "\n",
    "#plt.title('Trajectory of planet X')\n",
    "#plt.xlabel('X [1 AU]')\n",
    "#plt.ylabel('Y [1 AU]')\n",
    "#plt.plot(solution[0],solution[1],'k.')\n",
    "#plt.show()\n",
    "\n",
    "# Euler integration method 2\n",
    "def euler_vec2(f, x0, h): #t, h):\n",
    "    x = np.zeros((N,4),dtype=float)\n",
    "    \n",
    "    # Solution\n",
    "    x_buf = x0[:]#np.array([[0.0, a*(1-e), -np.sqrt(GM/a*(1+e)/(1-e)), 0.0]])\n",
    "    for i in range(N):#N-2\n",
    "        x[i,:] = x_buf[:]\n",
    "        x_buf += f(x_buf[0])\n",
    "    return x\n",
    "\n",
    "%timeit euler_vec(f,x0,h)\n",
    "x0 = np.array([[0.0, a*(1-e), -np.sqrt(GM/a*(1+e)/(1-e)), 0.0]])\n",
    "%timeit euler_vec2(f,x0,h)\n",
    "x0 = np.array([[0.0, a*(1-e), -np.sqrt(GM/a*(1+e)/(1-e)), 0.0]])\n",
    "solution = euler_vec2(f,x0,h)\n",
    "\n",
    "plt.title('Trajectory of planet X')\n",
    "plt.xlabel('X [1 AU]')\n",
    "plt.ylabel('Y [1 AU]')\n",
    "plt.plot(solution[:,0],solution[:,1],'k.')\n",
    "plt.show()"
   ]
  },
  {
   "cell_type": "markdown",
   "metadata": {},
   "source": [
    "## Eulerova-Cromerova metoda"
   ]
  },
  {
   "cell_type": "code",
   "execution_count": null,
   "metadata": {
    "collapsed": true
   },
   "outputs": [],
   "source": [
    "#Viktorovo řešení\n",
    "#  Non-optimalized Euler-Cronmer for Kepler problem\n",
    "\n",
    "# Set of initial declaration and parameters of the problem\n",
    "a = 1.0\n",
    "e = 0.01\n",
    "GM = 4.0*np.pi**2\n",
    "\n",
    "N = 400\n",
    "t0 = 0.0\n",
    "tend = 1.5\n",
    "t = np.linspace(t0,tend,N)\n",
    "h = (tend-t0)/N\n",
    "x = np.zeros((N,2))\n",
    "v = np.zeros((N,2))\n",
    "\n",
    "\n",
    "# Function g(x,t) \n",
    "def f(v_local):\n",
    "    return np.array([h*v_local[0],h*v_local[1]])\n",
    "\n",
    "# Function f(v,t) \n",
    "def g(x_local):\n",
    "    radius = np.sqrt(x_local[0]**2+x_local[1]**2)\n",
    "    tau = -GM/radius**3\n",
    "    return np.array([h*tau*x_local[0],h*tau*x_local[1]])\n",
    "\n",
    "# Euler integration method\n",
    "def euler_vec(f, g, x, v, t, h):\n",
    "    x[0,0] = 0.0\n",
    "    x[0,1] = a*(1-e)\n",
    "    v[0,0]= -np.sqrt(GM/a*(1+e)/(1-e))\n",
    "    v[0,1] = 0.0\n",
    "    \n",
    "    x_buf = np.zeros(2)\n",
    "    v_buf = np.zeros(2)\n",
    "    \n",
    "    # Solution\n",
    "    for i in range(N-2):\n",
    "        x_buf[:] = x[i,:]\n",
    "        v_buf[:] = v[i,:]\n",
    "        v[i+1,:] = v_buf[:] + g(x_buf[:])\n",
    "        v_buf[:] = v[i+1,:]\n",
    "        x[i+1,:] = x_buf[:] + f(v_buf[:])\n",
    "    return x,v\n",
    "\n",
    "solution_x,solution_v = euler_vec(f,g,x,v,t,h)\n",
    "\n",
    "plt.title('Trajectory of planet X')\n",
    "plt.xlabel('X [1 AU]')\n",
    "plt.ylabel('Y [1 AU]')\n",
    "plt.plot(solution_x[:,0],solution_x[:,1],'k.')"
   ]
  },
  {
   "cell_type": "markdown",
   "metadata": {},
   "source": [
    "### Aktivity\n",
    "* Úkol od Viktora: \"Modifikujte Eulerovo-Cromerovo schéma tak, aby byla jako implicitní hodnota použita nikoliv rychlost, ale poloha!!!\" Otestujte stabilitu této metody\n",
    "* Modifikujte zadání *Keplerovy úlohy*, tak aby výsledný pohyb tělesa byl eliptický"
   ]
  },
  {
   "cell_type": "code",
   "execution_count": null,
   "metadata": {
    "collapsed": false
   },
   "outputs": [],
   "source": [
    "#Moje řešení\n",
    "#vstupni konstanty\n",
    "a = 1.0\n",
    "e = 0.01\n",
    "GM = 4.0*np.pi**2\n",
    "\n",
    "#pocatecni podminky\n",
    "kroku = 100\n",
    "delka = 1.7\n",
    "x = np.zeros(kroku)\n",
    "y = np.zeros(kroku)\n",
    "u = np.zeros(kroku)\n",
    "v = np.zeros(kroku)\n",
    "r = np.zeros(kroku)\n",
    "T = np.zeros(kroku)\n",
    "y[0] = a*(1-e)\n",
    "u[0] = (-1)*sqrt((GM/a)*((1+e)/(1-e)))\n",
    "r[0] = a*(1-e)\n",
    "T[0] = -(GM/(r[0]**3))\n",
    "               \n",
    "#iterativni postup\n",
    "for i in range(1,kroku):\n",
    "    u[i] = u[i-1] + T[i-1]*x[i-1]*(delka/kroku)\n",
    "    v[i] = v[i-1] + T[i-1]*y[i-1]*(delka/kroku)\n",
    "    x[i] = x[i-1] + u[i]*(delka/kroku)\n",
    "    y[i] = y[i-1] + v[i]*(delka/kroku)\n",
    "    r[i] = sqrt(x[i-1]**2 + y[i-1]**2)\n",
    "    T[i] = -(GM/(r[i-1]**3))\n",
    "    \n",
    "#Maticovy pristup\n",
    "X = np.zeros(kroku, 6)\n",
    "\n",
    "for j in range(6):\n",
    "    \n",
    "    X[j,i] = u\n",
    "\n",
    "# Plotting of the result\n",
    "plt.plot(x[:],y[:],\"o-\",color=\"red\",lw=2)\n",
    "plt.grid(True)\n",
    "plt.xlabel(\"$x$ coordinate [AU]\")\n",
    "plt.ylabel(\"$y$ coordinate [AU]\")"
   ]
  },
  {
   "cell_type": "markdown",
   "metadata": {
    "collapsed": true
   },
   "source": [
    "## Metody vyšších řádů\n",
    "Úkol od Viktora - Runge-Kutta 2.řádu - Ralstonova metoda - použít na matematické kyvadlo."
   ]
  },
  {
   "cell_type": "code",
   "execution_count": null,
   "metadata": {
    "collapsed": true
   },
   "outputs": [],
   "source": []
  }
 ],
 "metadata": {
  "kernelspec": {
   "display_name": "Python 3",
   "language": "python",
   "name": "python3"
  },
  "language_info": {
   "codemirror_mode": {
    "name": "ipython",
    "version": 3
   },
   "file_extension": ".py",
   "mimetype": "text/x-python",
   "name": "python",
   "nbconvert_exporter": "python",
   "pygments_lexer": "ipython3",
   "version": "3.5.1"
  }
 },
 "nbformat": 4,
 "nbformat_minor": 0
}
