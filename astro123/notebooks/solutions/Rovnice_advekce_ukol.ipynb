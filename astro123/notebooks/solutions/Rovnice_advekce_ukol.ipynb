{
 "cells": [
  {
   "cell_type": "markdown",
   "metadata": {},
   "source": [
    "# Zadání - Řešte numericky rovnici advekce\n",
    "## Exaktní řešení\n",
    "$u(x,t) = u_0(x-vt)$\n",
    "## Počáteční profil\n",
    "$x\\:\\epsilon <0,2>$:\n",
    "\n",
    "pro $x < 0.5$ a $x > 1$: $y = 0$\n",
    "\n",
    "pro $x > 0.5$ a $x < 1$: $y = 1$\n",
    "\n",
    "$v = 0.2$\n",
    "\n",
    "$t_{end} = 2.5$\n",
    "\n",
    "$N = 100$\n",
    "\n",
    "$dt = 0.01$\n",
    "\n",
    "##Okrajové podmínky\n",
    "$u_1 = u_n$\n",
    "\n",
    "## Postup\n",
    " 1) Diskretizace $u(x,t)$\n",
    " 2) Počáteční profil\n",
    " 3) FDT (dopředná časová diference), BDS (zpětná prostorová diference)\n",
    " 4) Schéma:\n",
    "\n"
   ]
  },
  {
   "cell_type": "code",
   "execution_count": 1,
   "metadata": {
    "collapsed": true
   },
   "outputs": [],
   "source": [
    "import numpy as np"
   ]
  },
  {
   "cell_type": "markdown",
   "metadata": {},
   "source": [
    "## Diskretizace, počáteční hodnoty a počáteční profil"
   ]
  },
  {
   "cell_type": "code",
   "execution_count": 33,
   "metadata": {
    "collapsed": false
   },
   "outputs": [],
   "source": [
    "v = 0.2\n",
    "t_end = 2.5\n",
    "dt = 0.01\n",
    "t_kroku = t_end / dt\n",
    "N = 100\n",
    "\n",
    "#Diskretizace prostorové souřadnice\n",
    "x = np.linspace(0,2,N)\n",
    "dx = np.copy(x[1])\n",
    "\n",
    "#Počáteční profil\n",
    "u = np.oneslike(x)\n",
    "\n",
    "#u[np.where((x > 0.5) and (x < 1))] = 2.0 #Viktorova rada\n",
    "x_mask = np.where([(el > 0.5) and (el < 1) for el in x])\n",
    "u[x_mask] = 2.0\n",
    "#print(u)"
   ]
  },
  {
   "cell_type": "markdown",
   "metadata": {},
   "source": [
    "## FDT - Dopředná časová diference a BDS - Zpětná prostorová diference"
   ]
  },
  {
   "cell_type": "code",
   "execution_count": null,
   "metadata": {
    "collapsed": true
   },
   "outputs": [],
   "source": [
    "def FDT_BDS(u,x)\n",
    "    t = 0.0\n",
    "    u_new = np.oneslike(u)\n",
    "\n",
    "    while (t < t_end):\n",
    "        #Okrajová podmínka\n",
    "        u_new[0] = u_new[-1]\n",
    "        #Rovnice pro dopřednou časovou diferenci\n",
    "        u_new[1:] = u[1:] - v*(dt/dx)(u[1:]-u[:-1])\n",
    "        u = u_new\n",
    "        #Uložení u_new\n",
    "        #Připočtení časového kroku\n",
    "        t += dt\n",
    "    return u\n",
    "\n",
    "solution = FDT_BDS(u,x)\n",
    "print(solution)\n"
   ]
  }
 ],
 "metadata": {
  "kernelspec": {
   "display_name": "Python 3",
   "language": "python",
   "name": "python3"
  },
  "language_info": {
   "codemirror_mode": {
    "name": "ipython",
    "version": 3
   },
   "file_extension": ".py",
   "mimetype": "text/x-python",
   "name": "python",
   "nbconvert_exporter": "python",
   "pygments_lexer": "ipython3",
   "version": "3.5.1"
  }
 },
 "nbformat": 4,
 "nbformat_minor": 0
}
